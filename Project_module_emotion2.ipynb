{
  "cells": [
    {
      "cell_type": "markdown",
      "metadata": {
        "id": "view-in-github",
        "colab_type": "text"
      },
      "source": [
        "<a href=\"https://colab.research.google.com/github/nidjosep/student-feedback-analysis/blob/master/Project_module_emotion2.ipynb\" target=\"_parent\"><img src=\"https://colab.research.google.com/assets/colab-badge.svg\" alt=\"Open In Colab\"/></a>"
      ]
    },
    {
      "cell_type": "code",
      "execution_count": 4,
      "id": "7f300c71-d7ea-48ef-b33a-b730c2e948e9",
      "metadata": {
        "id": "7f300c71-d7ea-48ef-b33a-b730c2e948e9"
      },
      "outputs": [],
      "source": [
        "# Import necessary libraries\n",
        "import pandas as pd\n",
        "import numpy as np\n",
        "import matplotlib.pyplot as plt\n",
        "import nltk\n",
        "from nltk.corpus import stopwords\n",
        "from sklearn.model_selection import train_test_split\n",
        "from sklearn.metrics import classification_report, confusion_matrix\n",
        "from tensorflow.keras.preprocessing.text import Tokenizer\n",
        "from tensorflow.keras.preprocessing.sequence import pad_sequences\n",
        "from tensorflow.keras.models import Sequential\n",
        "from tensorflow.keras.layers import Embedding, LSTM, Dense, Dropout, SpatialDropout1D\n",
        "import tensorflow as tf\n",
        "from sklearn.preprocessing import LabelEncoder\n",
        "import ssl\n",
        "import seaborn as sns\n",
        "from google.colab import drive\n"
      ]
    },
    {
      "cell_type": "code",
      "source": [
        "drive.mount('/content/drive', force_remount=True)\n",
        "\n",
        "# Load the dataset\n",
        "df = pd.read_csv('/content/drive/MyDrive/Teaching/TME_6015/Project/data.csv')"
      ],
      "metadata": {
        "colab": {
          "base_uri": "https://localhost:8080/"
        },
        "id": "6qCk86z1_7lw",
        "outputId": "9d7eff8e-401d-493b-ab97-b44eec01650e"
      },
      "id": "6qCk86z1_7lw",
      "execution_count": 5,
      "outputs": [
        {
          "output_type": "stream",
          "name": "stdout",
          "text": [
            "Mounted at /content/drive\n"
          ]
        }
      ]
    },
    {
      "cell_type": "code",
      "execution_count": null,
      "id": "f6413a8c-4c7a-4cbb-aca6-f845b949505a",
      "metadata": {
        "colab": {
          "base_uri": "https://localhost:8080/"
        },
        "id": "f6413a8c-4c7a-4cbb-aca6-f845b949505a",
        "outputId": "c1f76afe-61ed-49f3-f888-f0d8af5e524c"
      },
      "outputs": [
        {
          "name": "stdout",
          "output_type": "stream",
          "text": [
            "NLTK Downloader\n",
            "---------------------------------------------------------------------------\n",
            "    d) Download   l) List    u) Update   c) Config   h) Help   q) Quit\n",
            "---------------------------------------------------------------------------\n",
            "Downloader> q\n"
          ]
        },
        {
          "output_type": "stream",
          "name": "stderr",
          "text": [
            "[nltk_data] Downloading package stopwords to /root/nltk_data...\n",
            "[nltk_data]   Package stopwords is already up-to-date!\n"
          ]
        },
        {
          "output_type": "stream",
          "name": "stdout",
          "text": [
            "Epoch 1/11\n",
            "126/126 [==============================] - 65s 485ms/step - loss: 1.2540 - accuracy: 0.5044 - val_loss: 0.8533 - val_accuracy: 0.6936\n",
            "Epoch 2/11\n",
            " 53/126 [===========>..................] - ETA: 23s - loss: 0.5429 - accuracy: 0.8078"
          ]
        }
      ],
      "source": [
        "\n",
        "\n",
        "try:\n",
        "    _create_unverified_https_context = ssl._create_unverified_context\n",
        "except AttributeError:\n",
        "    pass\n",
        "else:\n",
        "    ssl._create_default_https_context = _create_unverified_https_context\n",
        "\n",
        "# Download NLTK stopwords\n",
        "nltk.download()\n",
        "nltk.download('stopwords')\n",
        "\n",
        "# Load stop words\n",
        "stop_words = set(stopwords.words('english'))\n",
        "\n",
        "# Function to remove stop words\n",
        "def remove_stop_words(text):\n",
        "    return ' '.join([word for word in text.split() if word.lower() not in stop_words])\n",
        "\n",
        "# df = df.head(4000)\n",
        "\n",
        "df = df[df['Message'].astype(str).str.strip() != '']\n",
        "df['Message'] = df['Message'].astype(str)\n",
        "\n",
        "df['Message'] = df['Message'].apply(remove_stop_words)\n",
        "\n",
        "# Split the data into training and testing sets\n",
        "train_reviews, test_reviews, train_labels, test_labels = train_test_split(\n",
        "    df['Message'], df['Feeling'] , test_size=0.2, random_state=42)\n",
        "\n",
        "# Create a label encoder object\n",
        "label_encoder = LabelEncoder()\n",
        "\n",
        "# Fit the label encoder to your labels and transform them to integers\n",
        "train_labels = label_encoder.fit_transform(train_labels)\n",
        "test_labels = label_encoder.transform(test_labels)\n",
        "\n",
        "# Tokenization and Padding\n",
        "tokenizer = Tokenizer(num_words=5000)  # Adjust num_words as needed\n",
        "tokenizer.fit_on_texts(train_reviews)\n",
        "X_train_seq = tokenizer.texts_to_sequences(train_reviews)\n",
        "X_test_seq = tokenizer.texts_to_sequences(test_reviews)\n",
        "X_train_pad = pad_sequences(X_train_seq, maxlen=150)  # Adjust maxlen as needed\n",
        "X_test_pad = pad_sequences(X_test_seq, maxlen=150)\n",
        "\n",
        "# Building the LSTM model with cuDNN optimization\n",
        "model = Sequential()\n",
        "model.add(Embedding(input_dim=5000, output_dim=128, input_length=150))\n",
        "# model.add(SpatialDropout1D(0.2))\n",
        "model.add(LSTM(100))  # Removed recurrent_dropout\n",
        "model.add(Dense(128, activation='relu'))\n",
        "model.add(Dense(64, activation='relu'))\n",
        "model.add(Dense(32, activation='relu'))\n",
        "\n",
        "# model.add(Dropout(0.5))\n",
        "model.add(Dense(6, activation='softmax', dtype='float32'))  # Ensure output layer uses float32\n",
        "\n",
        "\n",
        "# Compile the model with adjusted learning rate\n",
        "model.compile(optimizer=tf.keras.optimizers.Adam(learning_rate=0.001),\n",
        "              loss='sparse_categorical_crossentropy',\n",
        "              metrics=['accuracy'])\n",
        "\n",
        "# Train the model\n",
        "history = model.fit(X_train_pad, train_labels,batch_size=64, epochs=11,\n",
        "                    validation_data=(X_test_pad, test_labels))\n",
        "\n",
        "\n",
        "\n",
        "print(history.history['accuracy'])\n",
        "print(history.history['loss'])\n"
      ]
    },
    {
      "cell_type": "code",
      "execution_count": null,
      "id": "452b76de-b0e6-4cbd-930c-65f7663e5fbc",
      "metadata": {
        "id": "452b76de-b0e6-4cbd-930c-65f7663e5fbc"
      },
      "outputs": [],
      "source": [
        "\n",
        "# Plot training & validation accuracy values\n",
        "plt.figure(figsize=(22, 8))\n",
        "plt.subplot(1, 2, 1)\n",
        "plt.plot(history.history['accuracy'])\n",
        "plt.plot(history.history['val_accuracy'])\n",
        "plt.title('Model accuracy')\n",
        "plt.ylabel('Accuracy')\n",
        "plt.xlabel('Epoch')\n",
        "plt.legend(['Train', 'Validation'], loc='upper left')\n",
        "\n",
        "# Plot training & validation loss values\n",
        "plt.subplot(1, 2, 2)\n",
        "plt.plot(history.history['loss'])\n",
        "plt.plot(history.history['val_loss'])\n",
        "plt.title('Model loss')\n",
        "plt.ylabel('Loss')\n",
        "plt.xlabel('Epoch')\n",
        "plt.legend(['Train', 'Validation'], loc='upper left')\n",
        "\n",
        "plt.show()\n"
      ]
    },
    {
      "cell_type": "code",
      "execution_count": null,
      "id": "c03cdc0b-053d-44d5-afa1-40c834a31509",
      "metadata": {
        "id": "c03cdc0b-053d-44d5-afa1-40c834a31509"
      },
      "outputs": [],
      "source": [
        "# Evaluate the model\n",
        "model.evaluate(X_test_pad, test_labels)\n",
        "\n",
        "# Predict classes\n",
        "y_pred = model.predict(X_test_pad)\n",
        "y_pred_classes = np.argmax(y_pred, axis=1)\n",
        "\n",
        " # Compute the confusion matrix\n",
        "cm = confusion_matrix(test_labels, y_pred_classes)\n",
        "\n",
        "# Plot the confusion matrix\n",
        "plt.figure(figsize=(10, 8))\n",
        "sns.heatmap(cm, annot=True, fmt='d', cmap='Blues')\n",
        "plt.title('Confusion Matrix')\n",
        "plt.ylabel('Actual Labels')\n",
        "plt.xlabel('Predicted Labels')\n",
        "plt.show()\n",
        "\n",
        "# Print the classification report\n",
        "print(classification_report(test_labels, y_pred_classes))\n",
        "\n",
        "from sklearn.metrics import accuracy_score\n",
        "accuracy = accuracy_score(test_labels, y_pred_classes)\n",
        "print(f\"Accuracy: {accuracy}\")\n"
      ]
    },
    {
      "cell_type": "code",
      "execution_count": null,
      "id": "270730e4-6242-45ce-a575-45741fed2777",
      "metadata": {
        "id": "270730e4-6242-45ce-a575-45741fed2777"
      },
      "outputs": [],
      "source": [
        "from tensorflow.keras.preprocessing.text import Tokenizer\n",
        "from tensorflow.keras.preprocessing.sequence import pad_sequences\n",
        "\n",
        "# Assuming you have the tokenizer used during training\n",
        "# tokenizer = ... (Load or create the tokenizer used during training)\n",
        "\n",
        "# Custom text input\n",
        "custom_text = \"I sometimes feel lost during lab sessions. More structured guidance would be appreciated.\"\n",
        "\n",
        "# Tokenize the text\n",
        "sequences = tokenizer.texts_to_sequences([custom_text])\n",
        "\n",
        "# Pad the sequence (use the same max_length as used during training)\n",
        "max_length = 100  # This should be the same as what you used in training\n",
        "padded_sequence = pad_sequences(sequences, maxlen=max_length)\n",
        "\n",
        "\n",
        "# Predict\n",
        "prediction = model.predict(padded_sequence)\n",
        "\n",
        "# Process the prediction (depends on your model output)\n",
        "# For example, if it's a classification model:\n",
        "predicted_class = np.argmax(prediction, axis=1)\n",
        "\n",
        "# If you have label encoding, you can convert it back to a label\n",
        "predicted_label = label_encoder.inverse_transform(predicted_class)\n",
        "print(predicted_label)\n"
      ]
    },
    {
      "cell_type": "code",
      "execution_count": null,
      "id": "11cbc6f8-defe-4c59-a2b1-7b8258138194",
      "metadata": {
        "id": "11cbc6f8-defe-4c59-a2b1-7b8258138194"
      },
      "outputs": [],
      "source": []
    },
    {
      "cell_type": "code",
      "execution_count": null,
      "id": "17854635-d41b-4245-886c-c88bc74df125",
      "metadata": {
        "id": "17854635-d41b-4245-886c-c88bc74df125"
      },
      "outputs": [],
      "source": []
    },
    {
      "cell_type": "code",
      "execution_count": null,
      "id": "18bf7d97-9388-4417-86a4-5996246aa8c4",
      "metadata": {
        "id": "18bf7d97-9388-4417-86a4-5996246aa8c4"
      },
      "outputs": [],
      "source": []
    },
    {
      "cell_type": "code",
      "execution_count": null,
      "id": "7190fd7b-dc88-49d6-8458-9c48c317cef2",
      "metadata": {
        "id": "7190fd7b-dc88-49d6-8458-9c48c317cef2"
      },
      "outputs": [],
      "source": []
    }
  ],
  "metadata": {
    "kernelspec": {
      "display_name": "Python 3 (ipykernel)",
      "language": "python",
      "name": "python3"
    },
    "language_info": {
      "codemirror_mode": {
        "name": "ipython",
        "version": 3
      },
      "file_extension": ".py",
      "mimetype": "text/x-python",
      "name": "python",
      "nbconvert_exporter": "python",
      "pygments_lexer": "ipython3",
      "version": "3.10.11"
    },
    "colab": {
      "provenance": [],
      "include_colab_link": true
    }
  },
  "nbformat": 4,
  "nbformat_minor": 5
}