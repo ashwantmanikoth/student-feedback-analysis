{
  "cells": [
    {
      "cell_type": "markdown",
      "metadata": {
        "id": "view-in-github",
        "colab_type": "text"
      },
      "source": [
        "<a href=\"https://colab.research.google.com/github/nidjosep/student-feedback-analysis/blob/master/GRU_Model_2_Actionable_Insights_from_Student_Feedback_Sentiment_Analysis_Revised.ipynb\" target=\"_parent\"><img src=\"https://colab.research.google.com/assets/colab-badge.svg\" alt=\"Open In Colab\"/></a>"
      ]
    },
    {
      "cell_type": "code",
      "execution_count": 386,
      "metadata": {
        "id": "WTWzr6K1V_OE",
        "colab": {
          "base_uri": "https://localhost:8080/"
        },
        "outputId": "99c6d82f-5c00-4bfc-9232-597dacf335dc"
      },
      "outputs": [
        {
          "output_type": "stream",
          "name": "stderr",
          "text": [
            "[nltk_data] Downloading package stopwords to /root/nltk_data...\n",
            "[nltk_data]   Package stopwords is already up-to-date!\n"
          ]
        },
        {
          "output_type": "stream",
          "name": "stdout",
          "text": [
            "Mounted at /content/drive\n"
          ]
        }
      ],
      "source": [
        "# Import necessary libraries\n",
        "import pandas as pd\n",
        "import numpy as np\n",
        "import matplotlib.pyplot as plt\n",
        "import seaborn as sns\n",
        "import nltk\n",
        "from nltk.corpus import stopwords\n",
        "from sklearn.model_selection import train_test_split\n",
        "from sklearn.metrics import classification_report, confusion_matrix\n",
        "import tensorflow as tf\n",
        "from google.colab import drive\n",
        "\n",
        "\n",
        "# Download NLTK stopwords\n",
        "nltk.download('stopwords')\n",
        "\n",
        "# Load stop words\n",
        "stop_words = set(stopwords.words('english'))\n",
        "\n",
        "# Function to remove stop words\n",
        "def remove_stop_words(text):\n",
        "    return ' '.join([word for word in text.split() if word.lower() not in stop_words])\n",
        "\n",
        "# Mount your Google Drive\n",
        "drive.mount('/content/drive', force_remount=True)\n",
        "\n",
        "# Load the dataset\n",
        "df = pd.read_csv('/content/drive/MyDrive/MCSC/TME_6015/Project/Emotion_final.csv')"
      ]
    },
    {
      "cell_type": "code",
      "source": [
        "import tensorflow as tf\n",
        "from tensorflow.keras.preprocessing.text import Tokenizer\n",
        "from tensorflow.keras.preprocessing.sequence import pad_sequences\n",
        "from tensorflow.keras.models import Sequential\n",
        "from tensorflow.keras.layers import Embedding, LSTM, GRU, Dense, Dropout, Bidirectional\n",
        "from tensorflow.keras import regularizers  # Import the regularizers module\n",
        "from tensorflow.keras.optimizers import Adam  # Import Adam optimizer\n",
        "from tensorflow.keras.callbacks import EarlyStopping  # Import EarlyStopping\n",
        "\n",
        "from sklearn.model_selection import train_test_split\n",
        "from sklearn.preprocessing import LabelEncoder\n",
        "import pandas as pd\n",
        "\n",
        "\n",
        "texts = df['Review']\n",
        "labels = df['Label']\n",
        "\n",
        "# Initialize the LabelEncoder\n",
        "label_encoder = LabelEncoder()\n",
        "\n",
        "# Fit label encoder and return encoded labels\n",
        "encoded_labels = label_encoder.fit_transform(labels)\n",
        "\n",
        "# To see the mapping of string labels to integers\n",
        "label_mapping = dict(zip(label_encoder.classes_, label_encoder.transform(label_encoder.classes_)))\n",
        "print(\"Label Mapping: \", label_mapping)\n",
        "\n",
        "# Hyperparameters\n",
        "vocab_size = 10000  # Number of unique words in the vocabulary\n",
        "embedding_dim = 100  # Number of dimensions for each word vector\n",
        "max_length = 100    # Max length of each input sequence\n",
        "trunc_type = 'post'\n",
        "padding_type = 'post'\n",
        "oov_tok = \"<OOV>\"   # Token for out-of-vocabulary words\n",
        "\n",
        "# Tokenize the text\n",
        "tokenizer = Tokenizer(num_words=vocab_size, oov_token=oov_tok)\n",
        "tokenizer.fit_on_texts(texts)\n",
        "sequences = tokenizer.texts_to_sequences(texts)\n",
        "padded = pad_sequences(sequences, maxlen=max_length, padding=padding_type, truncating=trunc_type)\n",
        "\n",
        "# Split the data into training and validation sets\n",
        "train_texts, val_texts, train_labels, val_labels = train_test_split(padded, encoded_labels, test_size=0.2, random_state=42)\n",
        "\n",
        "model = Sequential([\n",
        "    Embedding(vocab_size, embedding_dim, input_length=max_length),\n",
        "    Bidirectional(GRU(64, return_sequences=True)),\n",
        "    Bidirectional(GRU(32)),\n",
        "    Dense(64, activation='relu', kernel_regularizer=regularizers.l2(0.01)),\n",
        "    Dropout(0.5),\n",
        "    Dense(6, activation='softmax')\n",
        "])\n",
        "\n",
        "# Using Adam optimizer with a different learning rate\n",
        "optimizer = Adam(learning_rate=0.0005)\n",
        "\n",
        "model.compile(optimizer=optimizer, loss='sparse_categorical_crossentropy', metrics=['accuracy'])\n",
        "\n",
        "# Early stopping\n",
        "early_stopping = EarlyStopping(monitor='val_loss', patience=3, restore_best_weights=True)\n",
        "\n",
        "history = model.fit(train_texts, train_labels, epochs=20, batch_size=64, validation_data=(val_texts, val_labels), callbacks=[early_stopping])"
      ],
      "metadata": {
        "colab": {
          "base_uri": "https://localhost:8080/"
        },
        "id": "JTUskqRgOHvT",
        "outputId": "fb586631-7447-4700-87df-7612bf021c99"
      },
      "execution_count": 387,
      "outputs": [
        {
          "output_type": "stream",
          "name": "stdout",
          "text": [
            "Label Mapping:  {'anger': 0, 'fear': 1, 'happy': 2, 'love': 3, 'sadness': 4, 'surprise': 5}\n",
            "Epoch 1/20\n",
            "269/269 [==============================] - 27s 78ms/step - loss: 1.8302 - accuracy: 0.3819 - val_loss: 1.2953 - val_accuracy: 0.5736\n",
            "Epoch 2/20\n",
            "269/269 [==============================] - 7s 26ms/step - loss: 1.0509 - accuracy: 0.6538 - val_loss: 0.7953 - val_accuracy: 0.7642\n",
            "Epoch 3/20\n",
            "269/269 [==============================] - 6s 22ms/step - loss: 0.6119 - accuracy: 0.8220 - val_loss: 0.5526 - val_accuracy: 0.8350\n",
            "Epoch 4/20\n",
            "269/269 [==============================] - 6s 21ms/step - loss: 0.4265 - accuracy: 0.8837 - val_loss: 0.4911 - val_accuracy: 0.8548\n",
            "Epoch 5/20\n",
            "269/269 [==============================] - 5s 20ms/step - loss: 0.3181 - accuracy: 0.9192 - val_loss: 0.4941 - val_accuracy: 0.8530\n",
            "Epoch 6/20\n",
            "269/269 [==============================] - 5s 19ms/step - loss: 0.2596 - accuracy: 0.9367 - val_loss: 0.4582 - val_accuracy: 0.8770\n",
            "Epoch 7/20\n",
            "269/269 [==============================] - 5s 19ms/step - loss: 0.2125 - accuracy: 0.9530 - val_loss: 0.4361 - val_accuracy: 0.8879\n",
            "Epoch 8/20\n",
            "269/269 [==============================] - 5s 19ms/step - loss: 0.1835 - accuracy: 0.9613 - val_loss: 0.4491 - val_accuracy: 0.8865\n",
            "Epoch 9/20\n",
            "269/269 [==============================] - 5s 18ms/step - loss: 0.1660 - accuracy: 0.9642 - val_loss: 0.4421 - val_accuracy: 0.8900\n",
            "Epoch 10/20\n",
            "269/269 [==============================] - 5s 19ms/step - loss: 0.1508 - accuracy: 0.9693 - val_loss: 0.4367 - val_accuracy: 0.8896\n"
          ]
        }
      ]
    },
    {
      "cell_type": "code",
      "source": [
        "def predict_sentiment(text):\n",
        "    # Tokenize and pad the text\n",
        "    sequence = tokenizer.texts_to_sequences([text])\n",
        "    padded_sequence = pad_sequences(sequence, maxlen=max_length, padding=padding_type, truncating=trunc_type)\n",
        "\n",
        "    # Predict\n",
        "    prediction = model.predict(padded_sequence)\n",
        "    sentiment = label_encoder.inverse_transform([np.argmax(prediction)])[0]\n",
        "\n",
        "    return sentiment\n",
        "\n",
        "# Example usage\n",
        "sentence = \"The course is good\"  # Replace with your sentence\n",
        "predicted_sentiment = predict_sentiment(sentence)\n",
        "print(f\"The predicted sentiment is: {predicted_sentiment}\")\n"
      ],
      "metadata": {
        "colab": {
          "base_uri": "https://localhost:8080/"
        },
        "id": "vtTXJfqIihXI",
        "outputId": "03f08067-835b-47f0-a4cd-6fe567f7199f"
      },
      "execution_count": 389,
      "outputs": [
        {
          "output_type": "stream",
          "name": "stdout",
          "text": [
            "1/1 [==============================] - 0s 22ms/step\n",
            "The predicted sentiment is: happy\n"
          ]
        }
      ]
    }
  ],
  "metadata": {
    "accelerator": "GPU",
    "colab": {
      "provenance": [],
      "machine_shape": "hm",
      "gpuType": "V100",
      "include_colab_link": true
    },
    "kernelspec": {
      "display_name": "Python 3",
      "name": "python3"
    },
    "language_info": {
      "name": "python"
    }
  },
  "nbformat": 4,
  "nbformat_minor": 0
}