{
  "cells": [
    {
      "cell_type": "markdown",
      "source": [
        "# 1. Setting Up Environment and loading necessary libraries"
      ],
      "metadata": {
        "id": "i8t1Xfc-tKHn"
      }
    },
    {
      "cell_type": "code",
      "execution_count": 67,
      "metadata": {
        "colab": {
          "base_uri": "https://localhost:8080/"
        },
        "id": "WTWzr6K1V_OE",
        "outputId": "adf7dbfa-32d3-473e-cc00-4daaea2f60a1"
      },
      "outputs": [
        {
          "output_type": "stream",
          "name": "stderr",
          "text": [
            "[nltk_data] Downloading package stopwords to /root/nltk_data...\n",
            "[nltk_data]   Package stopwords is already up-to-date!\n"
          ]
        },
        {
          "output_type": "execute_result",
          "data": {
            "text/plain": [
              "True"
            ]
          },
          "metadata": {},
          "execution_count": 67
        }
      ],
      "source": [
        "# Import necessary libraries\n",
        "import pandas as pd\n",
        "import numpy as np\n",
        "import matplotlib.pyplot as plt\n",
        "import seaborn as sns\n",
        "import nltk\n",
        "from nltk.corpus import stopwords\n",
        "from sklearn.model_selection import train_test_split\n",
        "from sklearn.metrics import classification_report, confusion_matrix\n",
        "from sklearn.preprocessing import LabelEncoder\n",
        "import json\n",
        "import re\n",
        "import ssl\n",
        "import tensorflow as tf\n",
        "from tensorflow.keras.preprocessing.text import Tokenizer\n",
        "from tensorflow.keras.preprocessing.sequence import pad_sequences\n",
        "from tensorflow.keras.models import Sequential\n",
        "from tensorflow.keras.layers import (\n",
        "    Embedding,\n",
        "    LSTM,\n",
        "    GRU,\n",
        "    Dense,\n",
        "    Dropout,\n",
        "    Bidirectional,\n",
        ")\n",
        "from tensorflow.keras import regularizers\n",
        "from tensorflow.keras.optimizers import Adam\n",
        "from tensorflow.keras.callbacks import EarlyStopping\n",
        "from google.colab import drive\n",
        "\n",
        "# Download NLTK stopwords\n",
        "nltk.download('stopwords')"
      ]
    },
    {
      "cell_type": "markdown",
      "source": [
        "# 2. Dataset Selection"
      ],
      "metadata": {
        "id": "IhGcBhBUtj_G"
      }
    },
    {
      "cell_type": "code",
      "source": [
        "# Mount your Google Drive\n",
        "drive.mount('/content/drive', force_remount=True)\n",
        "\n",
        "# Load the dataset\n",
        "df = pd.read_csv('/content/drive/MyDrive/MCSC/TME_6015/Project/Model_2__Emotion_Combined.csv')\n",
        "\n",
        "print(f'The dataset for training has a shape of {df.shape}')"
      ],
      "metadata": {
        "id": "vZrSQuUBtXHO",
        "colab": {
          "base_uri": "https://localhost:8080/"
        },
        "outputId": "3f59e59b-489c-40ba-8e83-ac9772d93fa9"
      },
      "execution_count": 66,
      "outputs": [
        {
          "output_type": "stream",
          "name": "stdout",
          "text": [
            "Mounted at /content/drive\n",
            "The dataset for training has a shape of (31476, 2)\n"
          ]
        }
      ]
    },
    {
      "cell_type": "markdown",
      "source": [
        "# 3. Data Preprocessing"
      ],
      "metadata": {
        "id": "_FVwEpY3uiot"
      }
    },
    {
      "cell_type": "code",
      "execution_count": 68,
      "metadata": {
        "colab": {
          "base_uri": "https://localhost:8080/"
        },
        "id": "JTUskqRgOHvT",
        "outputId": "27155cd4-299c-4140-8a3f-03b705e2ab8f"
      },
      "outputs": [
        {
          "output_type": "stream",
          "name": "stdout",
          "text": [
            "Label Mapping:  {'frustrated': 0, 'happy': 1, 'pleased': 2, 'sad': 3}\n"
          ]
        }
      ],
      "source": [
        "# Load the list of stopwords\n",
        "stop_words = set(stopwords.words('english'))\n",
        "\n",
        "# Function to clean and preprocess text\n",
        "def clean_text(text):\n",
        "    whitelist = ['not']\n",
        "    # Remove non-English characters\n",
        "    text = ''.join([c for c in text if ord(c) < 128])\n",
        "    # Remove numbers and special symbols, and convert to lowercase\n",
        "    text = re.sub(r'[^a-zA-Z\\s]', '', text)\n",
        "    # Remove stop words\n",
        "    text = ' '.join([word for word in text.split() if word.lower() not in stop_words or word.lower() in whitelist])\n",
        "    return text\n",
        "\n",
        "label_mapping = {\n",
        "    \"love\": \"pleased\",\n",
        "    \"surprise\": \"happy\",\n",
        "    \"fear\": \"frustrated\",\n",
        "    \"anger\": \"frustrated\",\n",
        "    \"angry\": \"frustrated\",\n",
        "    \"sadness\":\"sad\",\n",
        "    \"disgust\":\"sad\",\n",
        "\n",
        "}\n",
        "\n",
        "# Create a new column 'Updated_Label' with the updated labels based on the mapping\n",
        "def update_label(label):\n",
        "    if label in label_mapping:\n",
        "        return label_mapping[label]\n",
        "    else:\n",
        "        return label\n",
        "\n",
        "\n",
        "texts = df['Review'].apply(clean_text)\n",
        "\n",
        "labels = df['Updated_Label'] = df['Label'].apply(update_label)\n",
        "\n",
        "# Initialize the LabelEncoder\n",
        "label_encoder = LabelEncoder()\n",
        "\n",
        "# Fit label encoder and return encoded labels\n",
        "encoded_labels = label_encoder.fit_transform(labels)\n",
        "\n",
        "# To see the mapping of string labels to integers\n",
        "label_mapping = dict(zip(label_encoder.classes_, label_encoder.transform(label_encoder.classes_)))\n",
        "print(\"Label Mapping: \", label_mapping)\n",
        "\n",
        "# Hyperparameters\n",
        "vocab_size = 10000  # Number of unique words in the vocabulary\n",
        "embedding_dim = 100  # Number of dimensions for each word vector\n",
        "max_length = 100    # Max length of each input sequence\n",
        "trunc_type = 'post'\n",
        "padding_type = 'post'\n",
        "oov_tok = \"<OOV>\"   # Token for out-of-vocabulary words\n",
        "\n",
        "# Tokenize the text\n",
        "tokenizer = Tokenizer(num_words=vocab_size, oov_token=oov_tok)\n",
        "tokenizer.fit_on_texts(texts)\n",
        "sequences = tokenizer.texts_to_sequences(texts)\n",
        "padded = pad_sequences(sequences, maxlen=max_length, padding=padding_type, truncating=trunc_type)\n",
        "\n",
        "# Split the data into training and validation sets\n",
        "train_texts, val_texts, train_labels, val_labels = train_test_split(padded, encoded_labels, test_size=0.2, random_state=42)"
      ]
    },
    {
      "cell_type": "markdown",
      "source": [
        "# 4. Model Selection - Build and Compile"
      ],
      "metadata": {
        "id": "8chh5mNquuKr"
      }
    },
    {
      "cell_type": "code",
      "source": [
        "model = Sequential([\n",
        "    Embedding(vocab_size, embedding_dim, input_length=max_length),\n",
        "    Bidirectional(GRU(64, return_sequences=True)),\n",
        "    Bidirectional(GRU(32)),\n",
        "    Dense(64, activation='relu', kernel_regularizer=regularizers.l2(0.01)),\n",
        "    Dropout(0.5),\n",
        "    Dense(6, activation='softmax')\n",
        "])\n",
        "\n",
        "# Using Adam optimizer with a different learning rate\n",
        "optimizer = Adam(learning_rate=0.0005)\n",
        "\n",
        "model.compile(optimizer=optimizer, loss='sparse_categorical_crossentropy', metrics=['accuracy'])"
      ],
      "metadata": {
        "id": "4xOgiYFousjw"
      },
      "execution_count": 69,
      "outputs": []
    },
    {
      "cell_type": "markdown",
      "source": [
        "# 5. Training/Fine-Tuning"
      ],
      "metadata": {
        "id": "e7HqGp5iu8ud"
      }
    },
    {
      "cell_type": "code",
      "source": [
        "# Early stopping\n",
        "early_stopping = EarlyStopping(monitor='val_accuracy', patience=3, restore_best_weights=True)\n",
        "\n",
        "history = model.fit(train_texts, train_labels, epochs=20, batch_size=64, validation_data=(val_texts, val_labels), callbacks=[early_stopping])"
      ],
      "metadata": {
        "colab": {
          "base_uri": "https://localhost:8080/"
        },
        "id": "oo09CVhxvMns",
        "outputId": "a5463978-16a1-4df3-ee20-4ff49d7403ae"
      },
      "execution_count": 70,
      "outputs": [
        {
          "output_type": "stream",
          "name": "stdout",
          "text": [
            "Epoch 1/20\n",
            "394/394 [==============================] - 26s 50ms/step - loss: 1.4163 - accuracy: 0.5087 - val_loss: 0.8145 - val_accuracy: 0.7519\n",
            "Epoch 2/20\n",
            "394/394 [==============================] - 8s 21ms/step - loss: 0.5848 - accuracy: 0.8407 - val_loss: 0.4400 - val_accuracy: 0.8698\n",
            "Epoch 3/20\n",
            "394/394 [==============================] - 8s 21ms/step - loss: 0.3087 - accuracy: 0.9238 - val_loss: 0.3643 - val_accuracy: 0.8931\n",
            "Epoch 4/20\n",
            "394/394 [==============================] - 8s 21ms/step - loss: 0.2111 - accuracy: 0.9502 - val_loss: 0.3709 - val_accuracy: 0.8879\n",
            "Epoch 5/20\n",
            "394/394 [==============================] - 7s 18ms/step - loss: 0.1603 - accuracy: 0.9638 - val_loss: 0.3751 - val_accuracy: 0.8928\n",
            "Epoch 6/20\n",
            "394/394 [==============================] - 7s 18ms/step - loss: 0.1334 - accuracy: 0.9688 - val_loss: 0.3953 - val_accuracy: 0.8933\n",
            "Epoch 7/20\n",
            "394/394 [==============================] - 7s 18ms/step - loss: 0.1169 - accuracy: 0.9752 - val_loss: 0.4099 - val_accuracy: 0.8945\n",
            "Epoch 8/20\n",
            "394/394 [==============================] - 7s 18ms/step - loss: 0.1048 - accuracy: 0.9766 - val_loss: 0.4392 - val_accuracy: 0.8907\n",
            "Epoch 9/20\n",
            "394/394 [==============================] - 7s 17ms/step - loss: 0.0905 - accuracy: 0.9809 - val_loss: 0.4619 - val_accuracy: 0.8944\n",
            "Epoch 10/20\n",
            "394/394 [==============================] - 7s 19ms/step - loss: 0.0840 - accuracy: 0.9823 - val_loss: 0.4364 - val_accuracy: 0.8904\n"
          ]
        }
      ]
    },
    {
      "cell_type": "code",
      "source": [
        "import matplotlib.pyplot as plt\n",
        "\n",
        "def plot_training_history(history):\n",
        "    # Extracting the data from the history dictionary\n",
        "    acc = history['accuracy']\n",
        "    val_acc = history['val_accuracy']\n",
        "    loss = history['loss']\n",
        "    val_loss = history['val_loss']\n",
        "\n",
        "    epochs = range(1, len(acc) + 1)\n",
        "\n",
        "    # Plotting training and validation accuracy\n",
        "    plt.figure(figsize=(12, 5))\n",
        "\n",
        "    plt.subplot(1, 2, 1)\n",
        "    plt.plot(epochs, acc, 'b', label='Training Acc')\n",
        "    plt.plot(epochs, val_acc, 'r', label='Validation Acc')\n",
        "    plt.title('Training and Validation Accuracy')\n",
        "    plt.xlabel('Epochs')\n",
        "    plt.ylabel('Accuracy')\n",
        "    plt.legend()\n",
        "\n",
        "    # Plotting training and validation loss\n",
        "    plt.subplot(1, 2, 2)\n",
        "    plt.plot(epochs, loss, 'b', label='Training Loss')\n",
        "    plt.plot(epochs, val_loss, 'r', label='Validation Loss')\n",
        "    plt.title('Training and Validation Loss')\n",
        "    plt.xlabel('Epochs')\n",
        "    plt.ylabel('Loss')\n",
        "    plt.legend()\n",
        "\n",
        "    plt.tight_layout()\n",
        "    plt.show()\n",
        "\n",
        "plot_training_history(history.history)"
      ],
      "metadata": {
        "colab": {
          "base_uri": "https://localhost:8080/",
          "height": 507
        },
        "id": "brKM3K5v2t4j",
        "outputId": "c0edf3d6-ef7c-4e9e-aab2-3d99cbd9a6d6"
      },
      "execution_count": 71,
      "outputs": [
        {
          "output_type": "display_data",
          "data": {
            "text/plain": [
              "<Figure size 1200x500 with 2 Axes>"
            ],
            "image/png": "[encoded data removed]"
          },
          "metadata": {}
        }
      ]
    },
    {
      "cell_type": "markdown",
      "source": [
        "# 6. Hyperparamter Tuning & Evaluation Metrics"
      ],
      "metadata": {
        "id": "3IM6xGCfvWo5"
      }
    },
    {
      "cell_type": "markdown",
      "source": [
        "// TODO Section - ASHWANT\n",
        "\n",
        "1.   Experimenting with epoch\n",
        "2.   Experimenting with learning rate\n",
        "\n",
        "Print all the success metrics for all experiements, and print the same for our finalized model/params at the end.\n",
        "\n",
        "Based on the experimentation, we arrived at the final model and parameters with which we've now trained the model.\n",
        "\n"
      ],
      "metadata": {
        "id": "-yRZET6gvfEd"
      }
    },
    {
      "cell_type": "markdown",
      "source": [
        "# 7. Running Predictions on Test Data"
      ],
      "metadata": {
        "id": "QF6VhieowyaO"
      }
    },
    {
      "cell_type": "code",
      "execution_count": 72,
      "metadata": {
        "colab": {
          "base_uri": "https://localhost:8080/"
        },
        "id": "vtTXJfqIihXI",
        "outputId": "cb8768f9-e55b-478b-ad9f-3e2d58156207"
      },
      "outputs": [
        {
          "output_type": "stream",
          "name": "stdout",
          "text": [
            "1/1 [==============================] - 1s 998ms/step\n",
            "The predicted sentiment is: frustrated\n"
          ]
        }
      ],
      "source": [
        "# Testing the model with an example feedback\n",
        "def predict_sentiment(text):\n",
        "    # Tokenize and pad the text\n",
        "    sequence = tokenizer.texts_to_sequences([text])\n",
        "    padded_sequence = pad_sequences(sequence, maxlen=max_length, padding=padding_type, truncating=trunc_type)\n",
        "\n",
        "    # Predict\n",
        "    prediction = model.predict(padded_sequence)\n",
        "    sentiment = label_encoder.inverse_transform([np.argmax(prediction)])[0]\n",
        "\n",
        "    return sentiment\n",
        "\n",
        "# Example usage\n",
        "feedback = \"Unsatisfied with the outdated course.\"  # Replace with your sentence\n",
        "predicted_sentiment = predict_sentiment(feedback)\n",
        "print(f\"The predicted sentiment is: {predicted_sentiment}\")"
      ]
    },
    {
      "cell_type": "code",
      "execution_count": 73,
      "metadata": {
        "colab": {
          "base_uri": "https://localhost:8080/"
        },
        "id": "DWLDFXIwdgdH",
        "outputId": "303b560c-ae85-4d47-e993-7230f5ca2a53"
      },
      "outputs": [
        {
          "output_type": "stream",
          "name": "stdout",
          "text": [
            "1/1 [==============================] - 0s 22ms/step\n",
            "1/1 [==============================] - 0s 23ms/step\n",
            "1/1 [==============================] - 0s 23ms/step\n",
            "1/1 [==============================] - 0s 21ms/step\n",
            "1/1 [==============================] - 0s 22ms/step\n",
            "1/1 [==============================] - 0s 22ms/step\n",
            "1/1 [==============================] - 0s 20ms/step\n",
            "1/1 [==============================] - 0s 22ms/step\n",
            "1/1 [==============================] - 0s 23ms/step\n",
            "1/1 [==============================] - 0s 24ms/step\n",
            "1/1 [==============================] - 0s 21ms/step\n",
            "1/1 [==============================] - 0s 23ms/step\n",
            "1/1 [==============================] - 0s 20ms/step\n",
            "1/1 [==============================] - 0s 21ms/step\n",
            "1/1 [==============================] - 0s 22ms/step\n",
            "1/1 [==============================] - 0s 23ms/step\n",
            "1/1 [==============================] - 0s 22ms/step\n",
            "1/1 [==============================] - 0s 22ms/step\n",
            "1/1 [==============================] - 0s 22ms/step\n",
            "1/1 [==============================] - 0s 22ms/step\n",
            "1/1 [==============================] - 0s 20ms/step\n",
            "1/1 [==============================] - 0s 21ms/step\n",
            "1/1 [==============================] - 0s 21ms/step\n",
            "1/1 [==============================] - 0s 20ms/step\n",
            "1/1 [==============================] - 0s 22ms/step\n",
            "1/1 [==============================] - 0s 22ms/step\n",
            "1/1 [==============================] - 0s 21ms/step\n",
            "1/1 [==============================] - 0s 21ms/step\n",
            "1/1 [==============================] - 0s 21ms/step\n",
            "1/1 [==============================] - 0s 21ms/step\n",
            "1/1 [==============================] - 0s 22ms/step\n",
            "1/1 [==============================] - 0s 21ms/step\n",
            "1/1 [==============================] - 0s 21ms/step\n",
            "1/1 [==============================] - 0s 21ms/step\n",
            "1/1 [==============================] - 0s 22ms/step\n",
            "1/1 [==============================] - 0s 21ms/step\n",
            "1/1 [==============================] - 0s 20ms/step\n",
            "1/1 [==============================] - 0s 22ms/step\n",
            "1/1 [==============================] - 0s 23ms/step\n",
            "1/1 [==============================] - 0s 21ms/step\n",
            "1/1 [==============================] - 0s 22ms/step\n",
            "1/1 [==============================] - 0s 22ms/step\n",
            "1/1 [==============================] - 0s 21ms/step\n",
            "1/1 [==============================] - 0s 22ms/step\n",
            "1/1 [==============================] - 0s 22ms/step\n",
            "1/1 [==============================] - 0s 22ms/step\n",
            "1/1 [==============================] - 0s 23ms/step\n",
            "1/1 [==============================] - 0s 24ms/step\n",
            "1/1 [==============================] - 0s 22ms/step\n",
            "1/1 [==============================] - 0s 21ms/step\n",
            "1/1 [==============================] - 0s 22ms/step\n",
            "1/1 [==============================] - 0s 21ms/step\n",
            "1/1 [==============================] - 0s 21ms/step\n",
            "1/1 [==============================] - 0s 22ms/step\n",
            "1/1 [==============================] - 0s 20ms/step\n",
            "1/1 [==============================] - 0s 21ms/step\n",
            "1/1 [==============================] - 0s 21ms/step\n",
            "1/1 [==============================] - 0s 21ms/step\n",
            "1/1 [==============================] - 0s 22ms/step\n",
            "1/1 [==============================] - 0s 21ms/step\n",
            "1/1 [==============================] - 0s 21ms/step\n",
            "1/1 [==============================] - 0s 22ms/step\n",
            "1/1 [==============================] - 0s 22ms/step\n",
            "1/1 [==============================] - 0s 21ms/step\n",
            "1/1 [==============================] - 0s 22ms/step\n",
            "1/1 [==============================] - 0s 23ms/step\n",
            "1/1 [==============================] - 0s 21ms/step\n",
            "1/1 [==============================] - 0s 21ms/step\n",
            "1/1 [==============================] - 0s 23ms/step\n",
            "1/1 [==============================] - 0s 23ms/step\n",
            "1/1 [==============================] - 0s 24ms/step\n",
            "1/1 [==============================] - 0s 22ms/step\n",
            "1/1 [==============================] - 0s 22ms/step\n",
            "1/1 [==============================] - 0s 21ms/step\n",
            "1/1 [==============================] - 0s 21ms/step\n",
            "1/1 [==============================] - 0s 21ms/step\n",
            "1/1 [==============================] - 0s 21ms/step\n",
            "1/1 [==============================] - 0s 22ms/step\n",
            "1/1 [==============================] - 0s 20ms/step\n",
            "1/1 [==============================] - 0s 23ms/step\n",
            "1/1 [==============================] - 0s 22ms/step\n",
            "1/1 [==============================] - 0s 22ms/step\n",
            "1/1 [==============================] - 0s 22ms/step\n",
            "1/1 [==============================] - 0s 23ms/step\n",
            "1/1 [==============================] - 0s 21ms/step\n",
            "1/1 [==============================] - 0s 21ms/step\n",
            "1/1 [==============================] - 0s 21ms/step\n",
            "1/1 [==============================] - 0s 21ms/step\n",
            "1/1 [==============================] - 0s 22ms/step\n",
            "1/1 [==============================] - 0s 22ms/step\n",
            "1/1 [==============================] - 0s 21ms/step\n",
            "1/1 [==============================] - 0s 20ms/step\n",
            "1/1 [==============================] - 0s 22ms/step\n",
            "1/1 [==============================] - 0s 21ms/step\n",
            "1/1 [==============================] - 0s 21ms/step\n",
            "1/1 [==============================] - 0s 23ms/step\n",
            "1/1 [==============================] - 0s 21ms/step\n",
            "1/1 [==============================] - 0s 22ms/step\n",
            "1/1 [==============================] - 0s 22ms/step\n",
            "1/1 [==============================] - 0s 22ms/step\n",
            "Sentiments written to emotions.json\n"
          ]
        }
      ],
      "source": [
        "# run the predictions on a test dataset and generate the output file - emotions.json\n",
        "def remove_stop_words_from_list(texts):\n",
        "    # Define a list of words to whitelist\n",
        "    whitelist = []\n",
        "    processed_texts = []\n",
        "    for text in texts:\n",
        "        text = re.sub(r'[^a-zA-Z\\s]', '', text)\n",
        "        processed_text = ' '.join([word for word in text.split() if word.lower() not in stop_words or word.lower() in whitelist])\n",
        "        processed_texts.append(processed_text)\n",
        "    return processed_texts\n",
        "\n",
        "def read_json(file_path):\n",
        "    with open(file_path, 'r') as file:\n",
        "        return json.load(file)\n",
        "\n",
        "df = pd.read_csv('/content/drive/MyDrive/MCSC/TME_6015/Project/test_data_set_all_model.csv')\n",
        "\n",
        "test_messages = df['Feedback'].to_list()\n",
        "\n",
        "predicted_sentiments = {str(i+1): predict_sentiment(message) for i, message in enumerate(test_messages)}\n",
        "\n",
        "# printing the first 5 sentiment outputs\n",
        "index = 1\n",
        "for message in enumerate(test_messages):\n",
        "    if( i>5):\n",
        "      break\n",
        "    predicted_feeling = predicted_sentiments[str(index)]\n",
        "    print(f\"Message {index}: {message}\")\n",
        "    print(f\"Predicted Feeling: {predicted_feeling}\\n\")\n",
        "    index += 1\n",
        "\n",
        "# Write the dictionary to a JSON file\n",
        "with open('/content/drive/MyDrive/MCSC/TME_6015/Project/emotions.json', 'w') as json_file:\n",
        "    json.dump(predicted_sentiments, json_file, indent=4)\n",
        "\n",
        "print(\"Sentiments written to emotions.json\")"
      ]
    }
  ],
  "metadata": {
    "accelerator": "GPU",
    "colab": {
      "gpuType": "V100",
      "machine_shape": "hm",
      "provenance": []
    },
    "kernelspec": {
      "display_name": "Python 3",
      "name": "python3"
    },
    "language_info": {
      "codemirror_mode": {
        "name": "ipython",
        "version": 3
      },
      "file_extension": ".py",
      "mimetype": "text/x-python",
      "name": "python",
      "nbconvert_exporter": "python",
      "pygments_lexer": "ipython3",
      "version": "3.10.11"
    }
  },
  "nbformat": 4,
  "nbformat_minor": 0
}