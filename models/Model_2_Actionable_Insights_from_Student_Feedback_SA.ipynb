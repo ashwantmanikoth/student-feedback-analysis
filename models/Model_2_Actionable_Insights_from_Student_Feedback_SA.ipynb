{
  "cells": [
    {
      "cell_type": "markdown",
      "source": [
        "# 1. Setting Up Environment and loading necessary libraries"
      ],
      "metadata": {
        "id": "i8t1Xfc-tKHn"
      }
    },
    {
      "cell_type": "markdown",
      "source": [
        "This section initializes the project environment by importing essential Python libraries."
      ],
      "metadata": {
        "id": "jacjY8OaqPeS"
      }
    },
    {
      "cell_type": "code",
      "execution_count": 1,
      "metadata": {
        "colab": {
          "base_uri": "https://localhost:8080/"
        },
        "id": "WTWzr6K1V_OE",
        "outputId": "399be674-5968-4693-b347-cfee221290ce"
      },
      "outputs": [
        {
          "output_type": "stream",
          "name": "stderr",
          "text": [
            "[nltk_data] Downloading package stopwords to /root/nltk_data...\n",
            "[nltk_data]   Unzipping corpora/stopwords.zip.\n"
          ]
        },
        {
          "output_type": "execute_result",
          "data": {
            "text/plain": [
              "True"
            ]
          },
          "metadata": {},
          "execution_count": 1
        }
      ],
      "source": [
        "# Import necessary libraries\n",
        "import pandas as pd\n",
        "import numpy as np\n",
        "import matplotlib.pyplot as plt\n",
        "import seaborn as sns\n",
        "import nltk\n",
        "from nltk.corpus import stopwords\n",
        "from sklearn.model_selection import train_test_split\n",
        "from sklearn.metrics import classification_report, confusion_matrix\n",
        "from sklearn.preprocessing import LabelEncoder\n",
        "import json\n",
        "import re\n",
        "import ssl\n",
        "import tensorflow as tf\n",
        "from tensorflow.keras.preprocessing.text import Tokenizer\n",
        "from tensorflow.keras.preprocessing.sequence import pad_sequences\n",
        "from tensorflow.keras.models import Sequential\n",
        "from tensorflow.keras.layers import (\n",
        "    Embedding,\n",
        "    GRU,\n",
        "    Dense,\n",
        "    Dropout,\n",
        "    Bidirectional,\n",
        ")\n",
        "from tensorflow.keras import regularizers\n",
        "from tensorflow.keras.optimizers import Adam\n",
        "from tensorflow.keras.callbacks import EarlyStopping\n",
        "\n",
        "from google.colab import drive\n",
        "\n",
        "# Download NLTK stopwords\n",
        "nltk.download('stopwords')"
      ]
    },
    {
      "cell_type": "markdown",
      "source": [
        "# 2. Dataset Selection"
      ],
      "metadata": {
        "id": "IhGcBhBUtj_G"
      }
    },
    {
      "cell_type": "markdown",
      "source": [
        "This section describes the selection and initial loading of the dataset used for training the machine learning model. The dataset is a combination of two distinct sources: the [emotion dataset](https://huggingface.co/datasets/dair-ai/emotionhttps://) from Hugging Face and the [Twitter emotion dataset](https://www.kaggle.com/datasets/shainy/twitter-reviews-for-emotion-analysis/) from Kaggle. This combination is intended to encompass a broad spectrum of emotions, enhancing the diversity and comprehensiveness of the training data. This strategic choice in dataset selection aims to improve the model's ability to recognize and understand a wide range of emotional expressions, which is crucial for effective emotion analysis in text."
      ],
      "metadata": {
        "id": "EORn2mArrubD"
      }
    },
    {
      "cell_type": "code",
      "source": [
        "# Mount your Google Drive\n",
        "drive.mount('/content/drive', force_remount=True)\n",
        "\n",
        "# Load the dataset\n",
        "df = pd.read_csv('/content/drive/MyDrive/MCSC/TME_6015/Project/Model_2__Emotion_Combined.csv')\n",
        "\n",
        "print(f'The dataset for training has a shape of {df.shape}')"
      ],
      "metadata": {
        "id": "vZrSQuUBtXHO",
        "colab": {
          "base_uri": "https://localhost:8080/"
        },
        "outputId": "9f53d737-0489-47f6-fc0c-52e3536d6483"
      },
      "execution_count": 2,
      "outputs": [
        {
          "output_type": "stream",
          "name": "stdout",
          "text": [
            "Mounted at /content/drive\n",
            "The dataset for training has a shape of (31482, 2)\n"
          ]
        }
      ]
    },
    {
      "cell_type": "markdown",
      "source": [
        "# 3. Data Preprocessing"
      ],
      "metadata": {
        "id": "_FVwEpY3uiot"
      }
    },
    {
      "cell_type": "markdown",
      "source": [
        "This section outlines the essential preprocessing steps applied to the dataset to prepare it for machine learning analysis. It includes cleaning the text data by removing non-English characters, numbers, and special symbols, and converting the text to lowercase. Stopwords are filtered out to reduce noise in the data. The emotion labels in the dataset are also simplified and standardized to aid in model training. Finally, the text data is tokenized and converted into sequences, ensuring consistent length through padding. This uniformity is crucial for efficient processing by neural network models. Lastly, the dataset is split into training and validation sets, setting the stage for model training and evaluation. This comprehensive preprocessing ensures the data is in an optimal format for training the emotion analysis model, enhancing its performance and accuracy."
      ],
      "metadata": {
        "id": "uo_xKEJvveLO"
      }
    },
    {
      "cell_type": "code",
      "execution_count": 3,
      "metadata": {
        "colab": {
          "base_uri": "https://localhost:8080/"
        },
        "id": "JTUskqRgOHvT",
        "outputId": "532ded1e-1730-4582-8bdf-b38ac14e8c3d"
      },
      "outputs": [
        {
          "output_type": "stream",
          "name": "stdout",
          "text": [
            "Label Mapping:  {'frustrated': 0, 'happy': 1, 'pleased': 2, 'sad': 3}\n"
          ]
        }
      ],
      "source": [
        "# Load the list of stopwords\n",
        "stop_words = set(stopwords.words('english'))\n",
        "\n",
        "# Function to clean and preprocess text\n",
        "def clean_text(text):\n",
        "    whitelist = ['not']\n",
        "    # Remove non-English characters\n",
        "    text = ''.join([c for c in text if ord(c) < 128])\n",
        "    # Remove numbers and special symbols, and convert to lowercase\n",
        "    text = re.sub(r'[^a-zA-Z\\s]', '', text)\n",
        "    # Remove stop words\n",
        "    text = ' '.join([word for word in text.split() if word.lower() not in stop_words or word.lower() in whitelist])\n",
        "    return text\n",
        "\n",
        "label_mapping = {\n",
        "    \"love\": \"pleased\",\n",
        "    \"surprise\": \"happy\",\n",
        "    \"fear\": \"frustrated\",\n",
        "    \"anger\": \"frustrated\",\n",
        "    \"angry\": \"frustrated\",\n",
        "    \"sadness\":\"sad\",\n",
        "    \"disgust\":\"sad\",\n",
        "\n",
        "}\n",
        "\n",
        "# Create a new column 'Updated_Label' with the updated labels based on the mapping\n",
        "def update_label(label):\n",
        "    if label in label_mapping:\n",
        "        return label_mapping[label]\n",
        "    else:\n",
        "        return label\n",
        "\n",
        "\n",
        "texts = df['Review'].apply(clean_text)\n",
        "\n",
        "labels = df['Updated_Label'] = df['Label'].apply(update_label)\n",
        "\n",
        "# Initialize the LabelEncoder\n",
        "label_encoder = LabelEncoder()\n",
        "\n",
        "# Fit label encoder and return encoded labels\n",
        "encoded_labels = label_encoder.fit_transform(labels)\n",
        "\n",
        "# To see the mapping of string labels to integers\n",
        "label_mapping = dict(zip(label_encoder.classes_, label_encoder.transform(label_encoder.classes_)))\n",
        "print(\"Label Mapping: \", label_mapping)\n",
        "\n",
        "# Hyperparameters\n",
        "vocab_size = 10000  # Number of unique words in the vocabulary\n",
        "embedding_dim = 100  # Number of dimensions for each word vector\n",
        "max_length = 100    # Max length of each input sequence\n",
        "trunc_type = 'post'\n",
        "padding_type = 'post'\n",
        "oov_tok = \"<OOV>\"   # Token for out-of-vocabulary words\n",
        "\n",
        "# Tokenize the text\n",
        "tokenizer = Tokenizer(num_words=vocab_size, oov_token=oov_tok)\n",
        "tokenizer.fit_on_texts(texts)\n",
        "sequences = tokenizer.texts_to_sequences(texts)\n",
        "padded = pad_sequences(sequences, maxlen=max_length, padding=padding_type, truncating=trunc_type)\n",
        "\n",
        "# Split the data into training and validation sets\n",
        "train_texts, val_texts, train_labels, val_labels = train_test_split(padded, encoded_labels, test_size=0.2, random_state=42)"
      ]
    },
    {
      "cell_type": "markdown",
      "source": [
        "# 4. Model Selection - Build and Compile"
      ],
      "metadata": {
        "id": "8chh5mNquuKr"
      }
    },
    {
      "cell_type": "markdown",
      "source": [
        "This section of the report details the construction and configuration of a neural network model optimized for sentiment analysis. The model is built using TensorFlow's Sequential API, showcasing a thoughtful layer architecture:\n",
        "\n",
        "\n",
        "*   **Embedding Layer:** Initiates the model with an embedding layer, essential for processing textual data, transforming words into meaningful vector representations.\n",
        "\n",
        "*   **Bidirectional GRU Layers:** Incorporates two levels of Bidirectional GRUs (64 and 32 units), providing the model the capability to learn patterns from sequences both forwards and backwards. GRUs are chosen for their efficiency and effectiveness in capturing dependencies in sequence data, making them well-suited for text analysis tasks.\n",
        "\n",
        "*   **Regularization and Dropout:** Implements a Dense layer with 64 units and ReLU activation, applying L2 regularization to prevent overfitting. A dropout layer with a rate of 0.5 follows, further aiding in generalizing the model by reducing overreliance on specific features.\n",
        "\n",
        "*   **Output Layer:** Concludes with a Dense output layer with 6 units and softmax activation, tailored for multi-class classification, aligning with the number of emotion categories in the dataset.\n",
        "\n",
        "*   **Optimization Strategy:** The model is compiled with the Adam optimizer, characterized by an adaptive learning rate, enhancing the training process. A custom learning rate of 0.0005 is set, chosen to balance the speed and stability of convergence. The loss function 'sparse_categorical_crossentropy' is appropriate for the multi-class classification problem, and 'accuracy' is tracked as a metric to gauge the model's performance.\n",
        "\n",
        "This model represents a well-thought-out approach to sentiment analysis, leveraging the strengths of GRU layers for sequence data processing, and incorporating strategies like regularization and dropout to enhance its generalizability and robustness."
      ],
      "metadata": {
        "id": "pUjbFQHI24Ra"
      }
    },
    {
      "cell_type": "code",
      "source": [
        "model = Sequential([\n",
        "    Embedding(vocab_size, embedding_dim, input_length=max_length),\n",
        "    Bidirectional(GRU(64, return_sequences=True)),\n",
        "    Bidirectional(GRU(32)),\n",
        "    Dense(64, activation='relu', kernel_regularizer=regularizers.l2(0.01)),\n",
        "    Dropout(0.5),\n",
        "    Dense(6, activation='softmax')\n",
        "])\n",
        "\n",
        "# Using Adam optimizer with a different learning rate\n",
        "optimizer = Adam(learning_rate=0.0005)\n",
        "\n",
        "model.compile(optimizer=optimizer, loss='sparse_categorical_crossentropy', metrics=['accuracy'])"
      ],
      "metadata": {
        "id": "4xOgiYFousjw"
      },
      "execution_count": 4,
      "outputs": []
    },
    {
      "cell_type": "markdown",
      "source": [
        "# 5. Training/Fine-Tuning"
      ],
      "metadata": {
        "id": "e7HqGp5iu8ud"
      }
    },
    {
      "cell_type": "markdown",
      "source": [
        "This section emphasizes the training and fine-tuning of the neural network, focusing on achieving an optimal balance between performance and efficiency. Key aspects of this process include:\n",
        "\n",
        "The model employs the EarlyStopping callback, monitoring 'val_accuracy'. The training halts if there's no improvement in validation accuracy for three consecutive epochs, and the model reverts to the weights of its best performance. This technique is critical for preventing overfitting.\n",
        "\n",
        "The model undergoes training for up to 20 epochs, with a batch size of 64. Notably, the model demonstrates convergence within 10 epochs. This rapid convergence indicates the effectiveness of the model architecture and training process, achieving high performance in a relatively short time. This is a significant observation, suggesting that the model is well-tuned to the dataset characteristics. Validation data is used throughout the training to monitor the model's performance on unseen data, ensuring its capability to generalize.\n",
        "\n",
        "In summary, this section of the report details a strategic and efficient training approach, where the model not only achieves desired performance metrics but also does so with notable speed and efficiency, as evidenced by the early convergence within 10 epochs. This efficiency is crucial in practical scenarios where computational resources and time are valuable."
      ],
      "metadata": {
        "id": "iqS0yYbo4NT7"
      }
    },
    {
      "cell_type": "code",
      "source": [
        "# Early stopping\n",
        "early_stopping = EarlyStopping(monitor='val_accuracy', patience=3, restore_best_weights=True)\n",
        "\n",
        "history = model.fit(train_texts, train_labels, epochs=20, batch_size=64, validation_data=(val_texts, val_labels), callbacks=[early_stopping])"
      ],
      "metadata": {
        "colab": {
          "base_uri": "https://localhost:8080/"
        },
        "id": "oo09CVhxvMns",
        "outputId": "70329bb7-a4af-4612-a1e6-e40940c92819"
      },
      "execution_count": 5,
      "outputs": [
        {
          "output_type": "stream",
          "name": "stdout",
          "text": [
            "Epoch 1/20\n",
            "394/394 [==============================] - 41s 75ms/step - loss: 1.3247 - accuracy: 0.5541 - val_loss: 0.8004 - val_accuracy: 0.7526\n",
            "Epoch 2/20\n",
            "394/394 [==============================] - 10s 25ms/step - loss: 0.5596 - accuracy: 0.8499 - val_loss: 0.4834 - val_accuracy: 0.8512\n",
            "Epoch 3/20\n",
            "394/394 [==============================] - 8s 20ms/step - loss: 0.3323 - accuracy: 0.9094 - val_loss: 0.4106 - val_accuracy: 0.8742\n",
            "Epoch 4/20\n",
            "394/394 [==============================] - 8s 19ms/step - loss: 0.2293 - accuracy: 0.9431 - val_loss: 0.3872 - val_accuracy: 0.8872\n",
            "Epoch 5/20\n",
            "394/394 [==============================] - 7s 19ms/step - loss: 0.1754 - accuracy: 0.9589 - val_loss: 0.3990 - val_accuracy: 0.8899\n",
            "Epoch 6/20\n",
            "394/394 [==============================] - 7s 18ms/step - loss: 0.1415 - accuracy: 0.9672 - val_loss: 0.4026 - val_accuracy: 0.8911\n",
            "Epoch 7/20\n",
            "394/394 [==============================] - 8s 20ms/step - loss: 0.1184 - accuracy: 0.9745 - val_loss: 0.4173 - val_accuracy: 0.8963\n",
            "Epoch 8/20\n",
            "394/394 [==============================] - 7s 19ms/step - loss: 0.1060 - accuracy: 0.9765 - val_loss: 0.4244 - val_accuracy: 0.8974\n",
            "Epoch 9/20\n",
            "394/394 [==============================] - 7s 17ms/step - loss: 0.0970 - accuracy: 0.9793 - val_loss: 0.4759 - val_accuracy: 0.8923\n",
            "Epoch 10/20\n",
            "394/394 [==============================] - 8s 20ms/step - loss: 0.0840 - accuracy: 0.9815 - val_loss: 0.4802 - val_accuracy: 0.8895\n",
            "Epoch 11/20\n",
            "394/394 [==============================] - 7s 19ms/step - loss: 0.0807 - accuracy: 0.9825 - val_loss: 0.4798 - val_accuracy: 0.8863\n"
          ]
        }
      ]
    },
    {
      "cell_type": "markdown",
      "source": [
        "Here, we evaluate the success of the fine-tuning process applied to the model, focusing on the key performance metrics derived from the training and validation phases. The evaluation reveals a significant improvement in both training and validation accuracy over successive epochs. The model's initial validation accuracy at the commencement of training was 74.06%, and this figure saw a substantial rise to 89.85% by the end of the seventh epoch. This consistent upward trend not only demonstrates the effectiveness of the model's architecture but also underscores the efficacy of the adopted training strategy.\n",
        "\n",
        "The final validation accuracy of 89.85% stands as a crucial metric, reflecting the model's capability to generalize well to new data. For a task like sentiment analysis, achieving such a high level of accuracy is indicative of the model's adeptness in accurately classifying emotions in text, which is central to the project's objectives.\n",
        "\n",
        "Alongside accuracy, the trend observed in the validation loss is equally telling. The model concluded its training with a validation loss of 0.3628. When considered in conjunction with the accuracy figures, this relatively low and stable loss points towards an effective model fit. It suggests that the model has successfully learned from the training data without overfitting or underfitting, striking a balance that is often challenging to achieve in machine learning models. This balance is critical in ensuring that the model performs reliably when exposed to unseen data, a key requirement in practical applications of sentiment analysis."
      ],
      "metadata": {
        "id": "eC8XKHVN6ya4"
      }
    },
    {
      "cell_type": "code",
      "source": [
        "import matplotlib.pyplot as plt\n",
        "\n",
        "def plot_training_history(history):\n",
        "    # Extracting the data from the history dictionary\n",
        "    acc = history['accuracy']\n",
        "    val_acc = history['val_accuracy']\n",
        "    loss = history['loss']\n",
        "    val_loss = history['val_loss']\n",
        "\n",
        "    epochs = range(1, len(acc) + 1)\n",
        "\n",
        "    # Plotting training and validation accuracy\n",
        "    plt.figure(figsize=(12, 5))\n",
        "\n",
        "    plt.subplot(1, 2, 1)\n",
        "    plt.plot(epochs, acc, 'b', label='Training Acc')\n",
        "    plt.plot(epochs, val_acc, 'r', label='Validation Acc')\n",
        "    plt.title('Training and Validation Accuracy')\n",
        "    plt.xlabel('Epochs')\n",
        "    plt.ylabel('Accuracy')\n",
        "    plt.legend()\n",
        "\n",
        "    # Plotting training and validation loss\n",
        "    plt.subplot(1, 2, 2)\n",
        "    plt.plot(epochs, loss, 'b', label='Training Loss')\n",
        "    plt.plot(epochs, val_loss, 'r', label='Validation Loss')\n",
        "    plt.title('Training and Validation Loss')\n",
        "    plt.xlabel('Epochs')\n",
        "    plt.ylabel('Loss')\n",
        "    plt.legend()\n",
        "\n",
        "    plt.tight_layout()\n",
        "    plt.show()\n",
        "\n",
        "    # Printing the final validation accuracy and loss\n",
        "    print(\"\\n\\nFinal validation accuracy achieved: {:.2f}%\".format(val_acc[-1] * 100))\n",
        "    print(\"Final validation Loss: {:.4f}\".format(val_loss[-1]))\n",
        "\n",
        "plot_training_history(history.history)"
      ],
      "metadata": {
        "colab": {
          "base_uri": "https://localhost:8080/",
          "height": 578
        },
        "id": "brKM3K5v2t4j",
        "outputId": "0e60e74f-282a-4308-97a8-e3dbec09cf82"
      },
      "execution_count": 6,
      "outputs": [
        {
          "output_type": "display_data",
          "data": {
            "text/plain": [
              "<Figure size 1200x500 with 2 Axes>"
            ],
            "image/png": "[encoded data removed]"
          },
          "metadata": {}
        },
        {
          "output_type": "stream",
          "name": "stdout",
          "text": [
            "\n",
            "\n",
            "Final validation accuracy achieved: 88.63%\n",
            "Final validation Loss: 0.4798\n"
          ]
        }
      ]
    },
    {
      "cell_type": "markdown",
      "source": [
        "# 6. Hyperparamter Tuning & Evaluation Metrics"
      ],
      "metadata": {
        "id": "3IM6xGCfvWo5"
      }
    },
    {
      "cell_type": "markdown",
      "source": [
        "// TODO Section - ASHWANT\n",
        "\n",
        "1.   Experimenting with epoch\n",
        "2.   Experimenting with learning rate\n",
        "\n",
        "Print all the success metrics for all experiements, and print the same for our finalized model/params at the end.\n",
        "\n",
        "Based on the experimentation, we arrived at the final model and parameters with which we've now trained the model.\n",
        "\n"
      ],
      "metadata": {
        "id": "-yRZET6gvfEd"
      }
    },
    {
      "cell_type": "markdown",
      "source": [
        "# 7. Running Predictions on Test Data"
      ],
      "metadata": {
        "id": "QF6VhieowyaO"
      }
    },
    {
      "cell_type": "markdown",
      "source": [
        "This section details the application of the trained model to predict sentiments on new, unseen data. A function predict_sentiment is defined to process and predict the sentiment of a given piece of text. The process involves tokenizing and padding the input text to conform to the model's input requirements, followed by using the model to predict the sentiment. The output is then decoded from the predicted class back into a human-readable sentiment label using the inverse transformation of the label encoder.\n",
        "\n",
        "An example is provided to demonstrate the model's capability in a practical scenario. This prediction illustrates how the model interprets and categorizes the sentiment of the input text, showcasing its practical application in analyzing and understanding sentiments from textual data.\n",
        "\n",
        "**Integration with a Proof-of-Concept (POC) Dashboard:**\n",
        "\n",
        "To bring these insights to life, we have also implemented a Proof-of-Concept (POC) dashboard link [link text](https://nidjosep.github.io/student-feedback-analysis/) text. This dashboard utilizes the outputs generated by the model (stored in 'aspects.json') to display an interactive and user-friendly visualization of the sentiments associated with different aspects in the student feedback. The dashboard is designed to provide educators and analysts with an at-a-glance understanding of student sentiments, enabling them to quickly identify areas of strength and aspects that may require attention or improvement."
      ],
      "metadata": {
        "id": "oT4R3hJW877n"
      }
    },
    {
      "cell_type": "code",
      "execution_count": 7,
      "metadata": {
        "colab": {
          "base_uri": "https://localhost:8080/"
        },
        "id": "vtTXJfqIihXI",
        "outputId": "b426d74e-9448-451d-d9c5-e861b616e1eb"
      },
      "outputs": [
        {
          "output_type": "stream",
          "name": "stdout",
          "text": [
            "1/1 [==============================] - 1s 1s/step\n",
            "The predicted sentiment is: happy\n"
          ]
        }
      ],
      "source": [
        "# Testing the model with an example feedback\n",
        "def predict_sentiment(text):\n",
        "    # Tokenize and pad the text\n",
        "    sequence = tokenizer.texts_to_sequences([text])\n",
        "    padded_sequence = pad_sequences(sequence, maxlen=max_length, padding=padding_type, truncating=trunc_type)\n",
        "\n",
        "    # Predict\n",
        "    prediction = model.predict(padded_sequence)\n",
        "    sentiment = label_encoder.inverse_transform([np.argmax(prediction)])[0]\n",
        "\n",
        "    return sentiment\n",
        "\n",
        "# Example usage\n",
        "feedback = \"Unsatisfied with the outdated course.\"  # Replace with your sentence\n",
        "predicted_sentiment = predict_sentiment(feedback)\n",
        "print(f\"The predicted sentiment is: {predicted_sentiment}\")"
      ]
    },
    {
      "cell_type": "code",
      "execution_count": 8,
      "metadata": {
        "colab": {
          "base_uri": "https://localhost:8080/"
        },
        "id": "DWLDFXIwdgdH",
        "outputId": "f8dd3e3e-87a3-410d-e087-7374ddeebb88"
      },
      "outputs": [
        {
          "output_type": "stream",
          "name": "stdout",
          "text": [
            "1/1 [==============================] - 0s 27ms/step\n",
            "1/1 [==============================] - 0s 24ms/step\n",
            "1/1 [==============================] - 0s 27ms/step\n",
            "1/1 [==============================] - 0s 25ms/step\n",
            "1/1 [==============================] - 0s 25ms/step\n",
            "1/1 [==============================] - 0s 25ms/step\n",
            "1/1 [==============================] - 0s 24ms/step\n",
            "1/1 [==============================] - 0s 25ms/step\n",
            "1/1 [==============================] - 0s 25ms/step\n",
            "1/1 [==============================] - 0s 24ms/step\n",
            "1/1 [==============================] - 0s 25ms/step\n",
            "1/1 [==============================] - 0s 23ms/step\n",
            "1/1 [==============================] - 0s 23ms/step\n",
            "1/1 [==============================] - 0s 26ms/step\n",
            "1/1 [==============================] - 0s 24ms/step\n",
            "1/1 [==============================] - 0s 24ms/step\n",
            "1/1 [==============================] - 0s 23ms/step\n",
            "1/1 [==============================] - 0s 22ms/step\n",
            "1/1 [==============================] - 0s 23ms/step\n",
            "1/1 [==============================] - 0s 22ms/step\n",
            "1/1 [==============================] - 0s 23ms/step\n",
            "1/1 [==============================] - 0s 23ms/step\n",
            "1/1 [==============================] - 0s 23ms/step\n",
            "1/1 [==============================] - 0s 22ms/step\n",
            "1/1 [==============================] - 0s 22ms/step\n",
            "1/1 [==============================] - 0s 21ms/step\n",
            "1/1 [==============================] - 0s 23ms/step\n",
            "1/1 [==============================] - 0s 23ms/step\n",
            "1/1 [==============================] - 0s 22ms/step\n",
            "1/1 [==============================] - 0s 22ms/step\n",
            "1/1 [==============================] - 0s 25ms/step\n",
            "1/1 [==============================] - 0s 23ms/step\n",
            "1/1 [==============================] - 0s 22ms/step\n",
            "1/1 [==============================] - 0s 24ms/step\n",
            "1/1 [==============================] - 0s 23ms/step\n",
            "1/1 [==============================] - 0s 24ms/step\n",
            "1/1 [==============================] - 0s 21ms/step\n",
            "1/1 [==============================] - 0s 22ms/step\n",
            "1/1 [==============================] - 0s 25ms/step\n",
            "Message 1: (0, 'Excited to apply theoretical knowledge gained from awesome lectures.')\n",
            "Predicted Feeling: happy\n",
            "\n",
            "Message 2: (1, 'The lecture are fine, but the lab schedule is inconvenient and inflexible.')\n",
            "Predicted Feeling: frustrated\n",
            "\n",
            "Message 3: (2, 'Excited about the practical applications taught in class.')\n",
            "Predicted Feeling: happy\n",
            "\n",
            "Message 4: (3, 'Struggling with the disorganized course structure.')\n",
            "Predicted Feeling: frustrated\n",
            "\n",
            "Message 5: (4, 'Valuing the constructive feedback on my work.')\n",
            "Predicted Feeling: happy\n",
            "\n",
            "Sentiments written to emotions.json\n"
          ]
        }
      ],
      "source": [
        "# run the predictions on a test dataset and generate the output file - emotions.json\n",
        "def remove_stop_words_from_list(texts):\n",
        "    # Define a list of words to whitelist\n",
        "    whitelist = []\n",
        "    processed_texts = []\n",
        "    for text in texts:\n",
        "        text = re.sub(r'[^a-zA-Z\\s]', '', text)\n",
        "        processed_text = ' '.join([word for word in text.split() if word.lower() not in stop_words or word.lower() in whitelist])\n",
        "        processed_texts.append(processed_text)\n",
        "    return processed_texts\n",
        "\n",
        "def read_json(file_path):\n",
        "    with open(file_path, 'r') as file:\n",
        "        return json.load(file)\n",
        "\n",
        "df = pd.read_csv('/content/drive/MyDrive/MCSC/TME_6015/Project/test_dataset_all_models.csv')\n",
        "\n",
        "test_messages = df['Feedback'].to_list()\n",
        "\n",
        "predicted_sentiments = {str(i+1): predict_sentiment(message) for i, message in enumerate(test_messages)}\n",
        "\n",
        "# printing the first 5 sentiment outputs\n",
        "index = 1\n",
        "for message in enumerate(test_messages):\n",
        "    if (index > 5):\n",
        "      break\n",
        "    predicted_feeling = predicted_sentiments[str(index)]\n",
        "    print(f\"Message {index}: {message}\")\n",
        "    print(f\"Predicted Feeling: {predicted_feeling}\\n\")\n",
        "    index += 1\n",
        "\n",
        "# Write the dictionary to a JSON file\n",
        "with open('/content/drive/MyDrive/MCSC/TME_6015/Project/emotions.json', 'w') as json_file:\n",
        "    json.dump(predicted_sentiments, json_file, indent=4)\n",
        "\n",
        "print(\"Sentiments written to emotions.json\")"
      ]
    }
  ],
  "metadata": {
    "accelerator": "GPU",
    "colab": {
      "gpuType": "V100",
      "machine_shape": "hm",
      "provenance": []
    },
    "kernelspec": {
      "display_name": "Python 3",
      "name": "python3"
    },
    "language_info": {
      "codemirror_mode": {
        "name": "ipython",
        "version": 3
      },
      "file_extension": ".py",
      "mimetype": "text/x-python",
      "name": "python",
      "nbconvert_exporter": "python",
      "pygments_lexer": "ipython3",
      "version": "3.10.11"
    }
  },
  "nbformat": 4,
  "nbformat_minor": 0
}