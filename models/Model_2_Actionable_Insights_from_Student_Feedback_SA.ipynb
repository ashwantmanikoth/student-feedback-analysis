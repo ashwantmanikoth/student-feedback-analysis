{
  "cells": [
    {
      "cell_type": "markdown",
      "metadata": {
        "id": "view-in-github",
        "colab_type": "text"
      },
      "source": [
        "<a href=\"https://colab.research.google.com/github/nidjosep/student-feedback-analysis/blob/master/models/Model_2_Actionable_Insights_from_Student_Feedback_SA.ipynb\" target=\"_parent\"><img src=\"https://colab.research.google.com/assets/colab-badge.svg\" alt=\"Open In Colab\"/></a>"
      ]
    },
    {
      "cell_type": "code",
      "execution_count": 1,
      "metadata": {
        "colab": {
          "base_uri": "https://localhost:8080/"
        },
        "id": "WTWzr6K1V_OE",
        "outputId": "58b75fe3-7bb4-4339-e031-13cca7359a7d"
      },
      "outputs": [
        {
          "output_type": "stream",
          "name": "stderr",
          "text": [
            "[nltk_data] Downloading package stopwords to /root/nltk_data...\n",
            "[nltk_data]   Unzipping corpora/stopwords.zip.\n"
          ]
        },
        {
          "output_type": "execute_result",
          "data": {
            "text/plain": [
              "True"
            ]
          },
          "metadata": {},
          "execution_count": 1
        }
      ],
      "source": [
        "# Import necessary libraries\n",
        "import pandas as pd\n",
        "import numpy as np\n",
        "import matplotlib.pyplot as plt\n",
        "import seaborn as sns\n",
        "import nltk\n",
        "from nltk.corpus import stopwords\n",
        "from sklearn.model_selection import train_test_split\n",
        "from sklearn.metrics import classification_report, confusion_matrix\n",
        "import tensorflow as tf\n",
        "import ssl\n",
        "import tensorflow as tf\n",
        "from tensorflow.keras.preprocessing.text import Tokenizer\n",
        "from tensorflow.keras.preprocessing.sequence import pad_sequences\n",
        "from tensorflow.keras.models import Sequential\n",
        "from tensorflow.keras.layers import Embedding, LSTM, GRU, Dense, Dropout, Bidirectional\n",
        "from tensorflow.keras import regularizers  # Import the regularizers module\n",
        "from tensorflow.keras.optimizers import Adam  # Import Adam optimizer\n",
        "from tensorflow.keras.callbacks import EarlyStopping  # Import EarlyStopping\n",
        "import json\n",
        "from sklearn.model_selection import train_test_split\n",
        "from sklearn.preprocessing import LabelEncoder\n",
        "import pandas as pd\n",
        "import re\n",
        "from google.colab import drive\n",
        "\n",
        "try:\n",
        "    _create_unverified_https_context = ssl._create_unverified_context\n",
        "except AttributeError:\n",
        "    pass\n",
        "else:\n",
        "    ssl._create_default_https_context = _create_unverified_https_context\n",
        "\n",
        "# Download NLTK stopwords\n",
        "nltk.download('stopwords')"
      ]
    },
    {
      "cell_type": "code",
      "execution_count": 2,
      "metadata": {
        "colab": {
          "base_uri": "https://localhost:8080/"
        },
        "id": "YQ68VxRKdgdG",
        "outputId": "e1a1a51f-7616-4286-e7c5-b501d8d5d4b0"
      },
      "outputs": [
        {
          "output_type": "stream",
          "name": "stdout",
          "text": [
            "Mounted at /content/drive\n"
          ]
        }
      ],
      "source": [
        "# Load stop words\n",
        "stop_words = set(stopwords.words('english'))\n",
        "\n",
        "# Function to remove stop words\n",
        "def remove_stop_words(text):\n",
        "    return ' '.join([word for word in text.split() if word.lower() not in stop_words])\n",
        "\n",
        "# Mount your Google Drive\n",
        "drive.mount('/content/drive', force_remount=True)\n",
        "\n",
        "# Load the dataset\n",
        "df = pd.read_csv('/content/drive/MyDrive/Teaching/TME_6015/Project/Emotion_final_combo.csv')"
      ]
    },
    {
      "cell_type": "code",
      "execution_count": 3,
      "metadata": {
        "colab": {
          "base_uri": "https://localhost:8080/"
        },
        "id": "JTUskqRgOHvT",
        "outputId": "415a661c-c0d8-406d-859c-c096f1dce62f"
      },
      "outputs": [
        {
          "output_type": "stream",
          "name": "stdout",
          "text": [
            "Label Mapping:  {'angry': 0, 'frustrated': 1, 'happy': 2, 'pleased': 3, 'sad': 4}\n",
            "Epoch 1/20\n",
            "394/394 [==============================] - 51s 97ms/step - loss: 1.4190 - accuracy: 0.5459 - val_loss: 0.8332 - val_accuracy: 0.7544\n",
            "Epoch 2/20\n",
            "394/394 [==============================] - 13s 34ms/step - loss: 0.6365 - accuracy: 0.8304 - val_loss: 0.5607 - val_accuracy: 0.8345\n",
            "Epoch 3/20\n",
            "394/394 [==============================] - 13s 33ms/step - loss: 0.4225 - accuracy: 0.8884 - val_loss: 0.5279 - val_accuracy: 0.8367\n",
            "Epoch 4/20\n",
            "394/394 [==============================] - 9s 23ms/step - loss: 0.3224 - accuracy: 0.9182 - val_loss: 0.4982 - val_accuracy: 0.8547\n",
            "Epoch 5/20\n",
            "394/394 [==============================] - 9s 23ms/step - loss: 0.2487 - accuracy: 0.9432 - val_loss: 0.4962 - val_accuracy: 0.8578\n",
            "Epoch 6/20\n",
            "394/394 [==============================] - 10s 25ms/step - loss: 0.2034 - accuracy: 0.9540 - val_loss: 0.4952 - val_accuracy: 0.8713\n",
            "Epoch 7/20\n",
            "394/394 [==============================] - 9s 22ms/step - loss: 0.1679 - accuracy: 0.9630 - val_loss: 0.5314 - val_accuracy: 0.8702\n",
            "Epoch 8/20\n",
            "394/394 [==============================] - 10s 25ms/step - loss: 0.1419 - accuracy: 0.9700 - val_loss: 0.4940 - val_accuracy: 0.8779\n",
            "Epoch 9/20\n",
            "394/394 [==============================] - 8s 20ms/step - loss: 0.1248 - accuracy: 0.9737 - val_loss: 0.5132 - val_accuracy: 0.8804\n",
            "Epoch 10/20\n",
            "394/394 [==============================] - 10s 26ms/step - loss: 0.1121 - accuracy: 0.9781 - val_loss: 0.5565 - val_accuracy: 0.8699\n",
            "Epoch 11/20\n",
            "394/394 [==============================] - 9s 22ms/step - loss: 0.1029 - accuracy: 0.9789 - val_loss: 0.5461 - val_accuracy: 0.8802\n",
            "Epoch 12/20\n",
            "394/394 [==============================] - 9s 22ms/step - loss: 0.0932 - accuracy: 0.9812 - val_loss: 0.5548 - val_accuracy: 0.8769\n"
          ]
        }
      ],
      "source": [
        "# Load the list of stopwords\n",
        "stop_words = set(stopwords.words('english'))\n",
        "\n",
        "# Function to clean and preprocess text\n",
        "def clean_text(text):\n",
        "    whitelist = ['not']\n",
        "    # Remove non-English characters\n",
        "    text = ''.join([c for c in text if ord(c) < 128])\n",
        "\n",
        "    # Remove numbers and special symbols, and convert to lowercase\n",
        "    text = re.sub(r'[^a-zA-Z\\s]', '', text)\n",
        "\n",
        "    # Remove stop words\n",
        "    text = ' '.join([word for word in text.split() if word.lower() not in stop_words or word.lower() in whitelist])\n",
        "\n",
        "    return text\n",
        "\n",
        "label_mapping = {\n",
        "    \"love\": \"pleased\",\n",
        "    \"surprise\": \"happy\",\n",
        "    \"fear\": \"frustrated\",\n",
        "    \"anger\": \"frustrated\",\n",
        "    \"anger\": \"frustrated\",\n",
        "    \"sadness\":\"sad\",\n",
        "    \"disgust\":\"sad\",\n",
        "\n",
        "}\n",
        "\n",
        "# Create a new column 'Updated_Label' with the updated labels based on the mapping\n",
        "def update_label(label):\n",
        "    if label in label_mapping:\n",
        "        return label_mapping[label]\n",
        "    else:\n",
        "        return label\n",
        "\n",
        "\n",
        "texts = df['Review'].apply(clean_text)\n",
        "\n",
        "labels = df['Updated_Label'] = df['Label'].apply(update_label)\n",
        "\n",
        "# Initialize the LabelEncoder\n",
        "label_encoder = LabelEncoder()\n",
        "\n",
        "# Fit label encoder and return encoded labels\n",
        "encoded_labels = label_encoder.fit_transform(labels)\n",
        "\n",
        "# To see the mapping of string labels to integers\n",
        "label_mapping = dict(zip(label_encoder.classes_, label_encoder.transform(label_encoder.classes_)))\n",
        "print(\"Label Mapping: \", label_mapping)\n",
        "\n",
        "# Hyperparameters\n",
        "vocab_size = 10000  # Number of unique words in the vocabulary\n",
        "embedding_dim = 100  # Number of dimensions for each word vector\n",
        "max_length = 100    # Max length of each input sequence\n",
        "trunc_type = 'post'\n",
        "padding_type = 'post'\n",
        "oov_tok = \"<OOV>\"   # Token for out-of-vocabulary words\n",
        "\n",
        "# Tokenize the text\n",
        "tokenizer = Tokenizer(num_words=vocab_size, oov_token=oov_tok)\n",
        "tokenizer.fit_on_texts(texts)\n",
        "sequences = tokenizer.texts_to_sequences(texts)\n",
        "padded = pad_sequences(sequences, maxlen=max_length, padding=padding_type, truncating=trunc_type)\n",
        "\n",
        "# Split the data into training and validation sets\n",
        "train_texts, val_texts, train_labels, val_labels = train_test_split(padded, encoded_labels, test_size=0.2, random_state=42)\n",
        "\n",
        "model = Sequential([\n",
        "    Embedding(vocab_size, embedding_dim, input_length=max_length),\n",
        "    Bidirectional(GRU(64, return_sequences=True)),\n",
        "    Bidirectional(GRU(32)),\n",
        "    Dense(64, activation='relu', kernel_regularizer=regularizers.l2(0.01)),\n",
        "    Dropout(0.5),\n",
        "    Dense(6, activation='softmax')\n",
        "])\n",
        "\n",
        "# Using Adam optimizer with a different learning rate\n",
        "optimizer = Adam(learning_rate=0.0005)\n",
        "\n",
        "model.compile(optimizer=optimizer, loss='sparse_categorical_crossentropy', metrics=['accuracy'])\n",
        "\n",
        "# Early stopping\n",
        "early_stopping = EarlyStopping(monitor='val_loss', patience=4, restore_best_weights=True)\n",
        "\n",
        "history = model.fit(train_texts, train_labels, epochs=20, batch_size=64, validation_data=(val_texts, val_labels), callbacks=[early_stopping])"
      ]
    },
    {
      "cell_type": "code",
      "execution_count": 5,
      "metadata": {
        "colab": {
          "base_uri": "https://localhost:8080/"
        },
        "id": "vtTXJfqIihXI",
        "outputId": "7d9dbc54-2f65-44a8-f126-ec7d0f4e1676"
      },
      "outputs": [
        {
          "output_type": "stream",
          "name": "stdout",
          "text": [
            "1/1 [==============================] - 0s 24ms/step\n",
            "The predicted sentiment is: frustrated\n"
          ]
        }
      ],
      "source": [
        "def predict_sentiment(text):\n",
        "    # Tokenize and pad the text\n",
        "    sequence = tokenizer.texts_to_sequences([text])\n",
        "    padded_sequence = pad_sequences(sequence, maxlen=max_length, padding=padding_type, truncating=trunc_type)\n",
        "\n",
        "    # Predict\n",
        "    prediction = model.predict(padded_sequence)\n",
        "    sentiment = label_encoder.inverse_transform([np.argmax(prediction)])[0]\n",
        "\n",
        "    return sentiment\n",
        "\n",
        "# Example usage\n",
        "sentence = \"Struggling with the disorganized course structure\"  # Replace with your sentence\n",
        "predicted_sentiment = predict_sentiment(sentence)\n",
        "print(f\"The predicted sentiment is: {predicted_sentiment}\")"
      ]
    },
    {
      "cell_type": "code",
      "execution_count": 8,
      "metadata": {
        "colab": {
          "base_uri": "https://localhost:8080/"
        },
        "id": "DWLDFXIwdgdH",
        "outputId": "e6a21907-ef41-43b6-e857-d98a8adac56f"
      },
      "outputs": [
        {
          "output_type": "stream",
          "name": "stdout",
          "text": [
            "1/1 [==============================] - 0s 25ms/step\n",
            "1/1 [==============================] - 0s 26ms/step\n",
            "1/1 [==============================] - 0s 23ms/step\n",
            "1/1 [==============================] - 0s 24ms/step\n",
            "1/1 [==============================] - 0s 30ms/step\n",
            "1/1 [==============================] - 0s 26ms/step\n",
            "1/1 [==============================] - 0s 23ms/step\n",
            "1/1 [==============================] - 0s 25ms/step\n",
            "1/1 [==============================] - 0s 25ms/step\n",
            "1/1 [==============================] - 0s 25ms/step\n",
            "1/1 [==============================] - 0s 23ms/step\n",
            "1/1 [==============================] - 0s 23ms/step\n",
            "1/1 [==============================] - 0s 22ms/step\n",
            "1/1 [==============================] - 0s 22ms/step\n",
            "1/1 [==============================] - 0s 21ms/step\n",
            "1/1 [==============================] - 0s 21ms/step\n",
            "1/1 [==============================] - 0s 24ms/step\n",
            "1/1 [==============================] - 0s 20ms/step\n",
            "1/1 [==============================] - 0s 24ms/step\n",
            "1/1 [==============================] - 0s 22ms/step\n",
            "1/1 [==============================] - 0s 23ms/step\n",
            "1/1 [==============================] - 0s 27ms/step\n",
            "1/1 [==============================] - 0s 22ms/step\n",
            "1/1 [==============================] - 0s 21ms/step\n",
            "1/1 [==============================] - 0s 29ms/step\n",
            "1/1 [==============================] - 0s 20ms/step\n",
            "1/1 [==============================] - 0s 24ms/step\n",
            "1/1 [==============================] - 0s 22ms/step\n",
            "1/1 [==============================] - 0s 22ms/step\n",
            "1/1 [==============================] - 0s 21ms/step\n",
            "1/1 [==============================] - 0s 28ms/step\n",
            "1/1 [==============================] - 0s 24ms/step\n",
            "1/1 [==============================] - 0s 23ms/step\n",
            "1/1 [==============================] - 0s 23ms/step\n",
            "1/1 [==============================] - 0s 22ms/step\n",
            "1/1 [==============================] - 0s 24ms/step\n",
            "1/1 [==============================] - 0s 26ms/step\n",
            "1/1 [==============================] - 0s 23ms/step\n",
            "1/1 [==============================] - 0s 23ms/step\n",
            "1/1 [==============================] - 0s 24ms/step\n",
            "1/1 [==============================] - 0s 23ms/step\n",
            "1/1 [==============================] - 0s 26ms/step\n",
            "1/1 [==============================] - 0s 27ms/step\n",
            "1/1 [==============================] - 0s 22ms/step\n",
            "1/1 [==============================] - 0s 24ms/step\n",
            "1/1 [==============================] - 0s 23ms/step\n",
            "1/1 [==============================] - 0s 21ms/step\n",
            "1/1 [==============================] - 0s 27ms/step\n",
            "1/1 [==============================] - 0s 24ms/step\n",
            "1/1 [==============================] - 0s 22ms/step\n",
            "1/1 [==============================] - 0s 23ms/step\n",
            "1/1 [==============================] - 0s 21ms/step\n",
            "1/1 [==============================] - 0s 22ms/step\n",
            "1/1 [==============================] - 0s 25ms/step\n",
            "1/1 [==============================] - 0s 23ms/step\n",
            "1/1 [==============================] - 0s 27ms/step\n",
            "1/1 [==============================] - 0s 26ms/step\n",
            "1/1 [==============================] - 0s 34ms/step\n",
            "1/1 [==============================] - 0s 23ms/step\n",
            "1/1 [==============================] - 0s 23ms/step\n",
            "1/1 [==============================] - 0s 22ms/step\n",
            "1/1 [==============================] - 0s 22ms/step\n",
            "1/1 [==============================] - 0s 22ms/step\n",
            "1/1 [==============================] - 0s 21ms/step\n",
            "1/1 [==============================] - 0s 32ms/step\n",
            "1/1 [==============================] - 0s 22ms/step\n",
            "1/1 [==============================] - 0s 21ms/step\n",
            "1/1 [==============================] - 0s 22ms/step\n",
            "1/1 [==============================] - 0s 21ms/step\n",
            "1/1 [==============================] - 0s 21ms/step\n",
            "1/1 [==============================] - 0s 24ms/step\n",
            "1/1 [==============================] - 0s 22ms/step\n",
            "1/1 [==============================] - 0s 26ms/step\n",
            "1/1 [==============================] - 0s 24ms/step\n",
            "1/1 [==============================] - 0s 21ms/step\n",
            "1/1 [==============================] - 0s 22ms/step\n",
            "1/1 [==============================] - 0s 23ms/step\n",
            "1/1 [==============================] - 0s 23ms/step\n",
            "1/1 [==============================] - 0s 25ms/step\n",
            "1/1 [==============================] - 0s 21ms/step\n",
            "1/1 [==============================] - 0s 21ms/step\n",
            "1/1 [==============================] - 0s 24ms/step\n",
            "1/1 [==============================] - 0s 22ms/step\n",
            "1/1 [==============================] - 0s 30ms/step\n",
            "1/1 [==============================] - 0s 22ms/step\n",
            "1/1 [==============================] - 0s 25ms/step\n",
            "1/1 [==============================] - 0s 25ms/step\n",
            "1/1 [==============================] - 0s 22ms/step\n",
            "1/1 [==============================] - 0s 23ms/step\n",
            "1/1 [==============================] - 0s 21ms/step\n",
            "1/1 [==============================] - 0s 25ms/step\n",
            "1/1 [==============================] - 0s 26ms/step\n",
            "1/1 [==============================] - 0s 34ms/step\n",
            "1/1 [==============================] - 0s 33ms/step\n",
            "1/1 [==============================] - 0s 33ms/step\n",
            "1/1 [==============================] - 0s 33ms/step\n",
            "1/1 [==============================] - 0s 38ms/step\n",
            "1/1 [==============================] - 0s 23ms/step\n",
            "1/1 [==============================] - 0s 24ms/step\n",
            "1/1 [==============================] - 0s 27ms/step\n",
            "Message 1: Excited to apply theoretical knowledge gained from awesome lectures.\n",
            "Predicted Feeling: happy\n",
            "\n",
            "Message 2: The lecture are fine, but the lab schedule is inconvenient and inflexible.\n",
            "Predicted Feeling: angry\n",
            "\n",
            "Message 3: Excited about the practical applications taught in class.\n",
            "Predicted Feeling: happy\n",
            "\n",
            "Message 4: Struggling with the disorganized course structure.\n",
            "Predicted Feeling: frustrated\n",
            "\n",
            "Message 5: Valuing the constructive feedback on my work.\n",
            "Predicted Feeling: frustrated\n",
            "\n",
            "Message 6: Pleased with the collaborative environment in the lab.\n",
            "Predicted Feeling: happy\n",
            "\n",
            "Sentiments written to emotions.json\n"
          ]
        }
      ],
      "source": [
        "# predict with test dataset\n",
        "def remove_stop_words_from_list(texts):\n",
        "    # Define a list of words to whitelist\n",
        "    whitelist = []\n",
        "    processed_texts = []\n",
        "    for text in texts:\n",
        "        text = re.sub(r'[^a-zA-Z\\s]', '', text)\n",
        "        processed_text = ' '.join([word for word in text.split() if word.lower() not in stop_words or word.lower() in whitelist])\n",
        "        processed_texts.append(processed_text)\n",
        "    return processed_texts\n",
        "\n",
        "def read_json(file_path):\n",
        "    with open(file_path, 'r') as file:\n",
        "        return json.load(file)\n",
        "\n",
        "test_data_dict = read_json('/content/drive/MyDrive/Teaching/TME_6015/Project/test_dataset_all_models.json')  # Make sure this path is correct\n",
        "\n",
        "test_messages = list(test_data_dict.values())\n",
        "\n",
        "predicted_sentiments = {str(i+1): predict_sentiment(message) for i, message in enumerate(test_messages)}\n",
        "\n",
        "for i, message in enumerate(test_messages):\n",
        "    if( i>5):\n",
        "      break\n",
        "    message_num = i + 1\n",
        "    predicted_feeling = predicted_sentiments[str(message_num)]\n",
        "    print(f\"Message {message_num}: {message}\")  # Print the message\n",
        "    print(f\"Predicted Feeling: {predicted_feeling}\\n\")\n",
        "\n",
        "# Write the dictionary to a JSON file\n",
        "with open('/content/drive/MyDrive/Teaching/TME_6015/Project/emotions.json', 'w') as json_file:\n",
        "    json.dump(predicted_sentiments, json_file, indent=4)\n",
        "\n",
        "print(\"Sentiments written to emotions.json\")"
      ]
    },
    {
      "cell_type": "code",
      "execution_count": null,
      "metadata": {
        "id": "dMRHXq-9dgdH"
      },
      "outputs": [],
      "source": []
    },
    {
      "cell_type": "code",
      "execution_count": null,
      "metadata": {
        "id": "ZSEyfD8ldgdH"
      },
      "outputs": [],
      "source": []
    },
    {
      "cell_type": "code",
      "execution_count": null,
      "metadata": {
        "id": "bHo-eso3dgdH"
      },
      "outputs": [],
      "source": []
    }
  ],
  "metadata": {
    "accelerator": "GPU",
    "colab": {
      "gpuType": "T4",
      "machine_shape": "hm",
      "provenance": [],
      "include_colab_link": true
    },
    "kernelspec": {
      "display_name": "Python 3 (ipykernel)",
      "language": "python",
      "name": "python3"
    },
    "language_info": {
      "codemirror_mode": {
        "name": "ipython",
        "version": 3
      },
      "file_extension": ".py",
      "mimetype": "text/x-python",
      "name": "python",
      "nbconvert_exporter": "python",
      "pygments_lexer": "ipython3",
      "version": "3.10.11"
    }
  },
  "nbformat": 4,
  "nbformat_minor": 0
}