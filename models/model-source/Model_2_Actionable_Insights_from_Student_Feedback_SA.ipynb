{
  "cells": [
    {
      "cell_type": "markdown",
      "metadata": {
        "id": "view-in-github",
        "colab_type": "text"
      },
      "source": [
        "<a href=\"https://colab.research.google.com/github/nidjosep/student-feedback-analysis/blob/master/models/model-source/Model_2_Actionable_Insights_from_Student_Feedback_SA.ipynb\" target=\"_parent\"><img src=\"https://colab.research.google.com/assets/colab-badge.svg\" alt=\"Open In Colab\"/></a>"
      ]
    },
    {
      "cell_type": "code",
      "execution_count": null,
      "metadata": {
        "colab": {
          "base_uri": "https://localhost:8080/"
        },
        "id": "WTWzr6K1V_OE",
        "outputId": "99c6d82f-5c00-4bfc-9232-597dacf335dc"
      },
      "outputs": [
        {
          "name": "stderr",
          "output_type": "stream",
          "text": [
            "[nltk_data] Downloading package stopwords to\n",
            "[nltk_data]     /Users/ashwantmanikoth/nltk_data...\n",
            "[nltk_data]   Package stopwords is already up-to-date!\n"
          ]
        }
      ],
      "source": [
        "# Import necessary libraries\n",
        "import pandas as pd\n",
        "import numpy as np\n",
        "import matplotlib.pyplot as plt\n",
        "import seaborn as sns\n",
        "import nltk\n",
        "from nltk.corpus import stopwords\n",
        "from sklearn.model_selection import train_test_split\n",
        "from sklearn.metrics import classification_report, confusion_matrix\n",
        "import tensorflow as tf\n",
        "import ssl\n",
        "# from google.colab import drive\n",
        "\n",
        "try:\n",
        "    _create_unverified_https_context = ssl._create_unverified_context\n",
        "except AttributeError:\n",
        "    pass\n",
        "else:\n",
        "    ssl._create_default_https_context = _create_unverified_https_context\n",
        "\n",
        "# Download NLTK stopwords\n",
        "nltk.download('stopwords')\n",
        "\n",
        "# Load stop words\n",
        "stop_words = set(stopwords.words('english'))\n",
        "\n",
        "# Function to remove stop words\n",
        "def remove_stop_words(text):\n",
        "    return ' '.join([word for word in text.split() if word.lower() not in stop_words])\n",
        "\n",
        "# Load the dataset\n",
        "df = pd.read_csv('/Users/ashwantmanikoth/Desktop/UNB/ML_workFlow/Emotion_final.csv')"
      ]
    },
    {
      "cell_type": "code",
      "execution_count": null,
      "metadata": {
        "colab": {
          "base_uri": "https://localhost:8080/"
        },
        "id": "JTUskqRgOHvT",
        "outputId": "fb586631-7447-4700-87df-7612bf021c99"
      },
      "outputs": [
        {
          "name": "stderr",
          "output_type": "stream",
          "text": [
            "/Library/Frameworks/Python.framework/Versions/3.10/lib/python3.10/site-packages/sklearn/utils/validation.py:605: FutureWarning: is_sparse is deprecated and will be removed in a future version. Check `isinstance(dtype, pd.SparseDtype)` instead.\n",
            "  if is_sparse(pd_dtype):\n",
            "/Library/Frameworks/Python.framework/Versions/3.10/lib/python3.10/site-packages/sklearn/utils/validation.py:614: FutureWarning: is_sparse is deprecated and will be removed in a future version. Check `isinstance(dtype, pd.SparseDtype)` instead.\n",
            "  if is_sparse(pd_dtype) or not is_extension_array_dtype(pd_dtype):\n"
          ]
        },
        {
          "name": "stdout",
          "output_type": "stream",
          "text": [
            "Label Mapping:  {'anger': 0, 'fear': 1, 'happy': 2, 'love': 3, 'sadness': 4, 'surprise': 5}\n"
          ]
        },
        {
          "name": "stderr",
          "output_type": "stream",
          "text": [
            "WARNING:absl:At this time, the v2.11+ optimizer `tf.keras.optimizers.Adam` runs slowly on M1/M2 Macs, please use the legacy Keras optimizer instead, located at `tf.keras.optimizers.legacy.Adam`.\n"
          ]
        },
        {
          "name": "stdout",
          "output_type": "stream",
          "text": [
            "Epoch 1/20\n",
            "269/269 [==============================] - 29s 96ms/step - loss: 1.8177 - accuracy: 0.4082 - val_loss: 1.2638 - val_accuracy: 0.5813\n",
            "Epoch 2/20\n",
            "269/269 [==============================] - 25s 92ms/step - loss: 1.1017 - accuracy: 0.6189 - val_loss: 0.9451 - val_accuracy: 0.6750\n",
            "Epoch 3/20\n",
            "269/269 [==============================] - 24s 88ms/step - loss: 0.8245 - accuracy: 0.7012 - val_loss: 0.7982 - val_accuracy: 0.7074\n",
            "Epoch 4/20\n",
            "269/269 [==============================] - 23s 87ms/step - loss: 0.6747 - accuracy: 0.7435 - val_loss: 0.7103 - val_accuracy: 0.7444\n",
            "Epoch 5/20\n",
            "269/269 [==============================] - 24s 91ms/step - loss: 0.5491 - accuracy: 0.7935 - val_loss: 0.6542 - val_accuracy: 0.7724\n",
            "Epoch 6/20\n",
            "269/269 [==============================] - 23s 87ms/step - loss: 0.4620 - accuracy: 0.8392 - val_loss: 0.5836 - val_accuracy: 0.8304\n",
            "Epoch 7/20\n",
            "269/269 [==============================] - 24s 90ms/step - loss: 0.3807 - accuracy: 0.8946 - val_loss: 0.5176 - val_accuracy: 0.8553\n",
            "Epoch 8/20\n",
            "269/269 [==============================] - 24s 88ms/step - loss: 0.3111 - accuracy: 0.9244 - val_loss: 0.4880 - val_accuracy: 0.8730\n",
            "Epoch 9/20\n",
            "269/269 [==============================] - 24s 90ms/step - loss: 0.2589 - accuracy: 0.9419 - val_loss: 0.4322 - val_accuracy: 0.8833\n",
            "Epoch 10/20\n",
            "269/269 [==============================] - 25s 92ms/step - loss: 0.2156 - accuracy: 0.9512 - val_loss: 0.4224 - val_accuracy: 0.8896\n",
            "Epoch 11/20\n",
            "269/269 [==============================] - 25s 91ms/step - loss: 0.1937 - accuracy: 0.9597 - val_loss: 0.4619 - val_accuracy: 0.8891\n",
            "Epoch 12/20\n",
            "269/269 [==============================] - 24s 91ms/step - loss: 0.1687 - accuracy: 0.9659 - val_loss: 0.4836 - val_accuracy: 0.8884\n",
            "Epoch 13/20\n",
            "269/269 [==============================] - 24s 90ms/step - loss: 0.1477 - accuracy: 0.9715 - val_loss: 0.4375 - val_accuracy: 0.8961\n"
          ]
        }
      ],
      "source": [
        "import tensorflow as tf\n",
        "from tensorflow.keras.preprocessing.text import Tokenizer\n",
        "from tensorflow.keras.preprocessing.sequence import pad_sequences\n",
        "from tensorflow.keras.models import Sequential\n",
        "from tensorflow.keras.layers import Embedding, LSTM, GRU, Dense, Dropout, Bidirectional\n",
        "from tensorflow.keras import regularizers  # Import the regularizers module\n",
        "from tensorflow.keras.optimizers import Adam  # Import Adam optimizer\n",
        "from tensorflow.keras.callbacks import EarlyStopping  # Import EarlyStopping\n",
        "\n",
        "from sklearn.model_selection import train_test_split\n",
        "from sklearn.preprocessing import LabelEncoder\n",
        "import pandas as pd\n",
        "\n",
        "\n",
        "texts = df['Review']\n",
        "labels = df['Label']\n",
        "\n",
        "# Initialize the LabelEncoder\n",
        "label_encoder = LabelEncoder()\n",
        "\n",
        "# Fit label encoder and return encoded labels\n",
        "encoded_labels = label_encoder.fit_transform(labels)\n",
        "\n",
        "# To see the mapping of string labels to integers\n",
        "label_mapping = dict(zip(label_encoder.classes_, label_encoder.transform(label_encoder.classes_)))\n",
        "print(\"Label Mapping: \", label_mapping)\n",
        "\n",
        "# Hyperparameters\n",
        "vocab_size = 10000  # Number of unique words in the vocabulary\n",
        "embedding_dim = 100  # Number of dimensions for each word vector\n",
        "max_length = 100    # Max length of each input sequence\n",
        "trunc_type = 'post'\n",
        "padding_type = 'post'\n",
        "oov_tok = \"<OOV>\"   # Token for out-of-vocabulary words\n",
        "\n",
        "# Tokenize the text\n",
        "tokenizer = Tokenizer(num_words=vocab_size, oov_token=oov_tok)\n",
        "tokenizer.fit_on_texts(texts)\n",
        "sequences = tokenizer.texts_to_sequences(texts)\n",
        "padded = pad_sequences(sequences, maxlen=max_length, padding=padding_type, truncating=trunc_type)\n",
        "\n",
        "# Split the data into training and validation sets\n",
        "train_texts, val_texts, train_labels, val_labels = train_test_split(padded, encoded_labels, test_size=0.2, random_state=42)\n",
        "\n",
        "model = Sequential([\n",
        "    Embedding(vocab_size, embedding_dim, input_length=max_length),\n",
        "    Bidirectional(GRU(64, return_sequences=True)),\n",
        "    Bidirectional(GRU(32)),\n",
        "    Dense(64, activation='relu', kernel_regularizer=regularizers.l2(0.01)),\n",
        "    Dropout(0.5),\n",
        "    Dense(6, activation='softmax')\n",
        "])\n",
        "\n",
        "# Using Adam optimizer with a different learning rate\n",
        "optimizer = Adam(learning_rate=0.0005)\n",
        "\n",
        "model.compile(optimizer=optimizer, loss='sparse_categorical_crossentropy', metrics=['accuracy'])\n",
        "\n",
        "# Early stopping\n",
        "early_stopping = EarlyStopping(monitor='val_loss', patience=3, restore_best_weights=True)\n",
        "\n",
        "history = model.fit(train_texts, train_labels, epochs=20, batch_size=64, validation_data=(val_texts, val_labels), callbacks=[early_stopping])"
      ]
    },
    {
      "cell_type": "code",
      "execution_count": null,
      "metadata": {
        "colab": {
          "base_uri": "https://localhost:8080/"
        },
        "id": "vtTXJfqIihXI",
        "outputId": "03f08067-835b-47f0-a4cd-6fe567f7199f"
      },
      "outputs": [
        {
          "name": "stdout",
          "output_type": "stream",
          "text": [
            "1/1 [==============================] - 0s 13ms/step\n",
            "The predicted sentiment is: fear\n"
          ]
        }
      ],
      "source": [
        "def predict_sentiment(text):\n",
        "    # Tokenize and pad the text\n",
        "    sequence = tokenizer.texts_to_sequences([text])\n",
        "    padded_sequence = pad_sequences(sequence, maxlen=max_length, padding=padding_type, truncating=trunc_type)\n",
        "\n",
        "    # Predict\n",
        "    prediction = model.predict(padded_sequence)\n",
        "    sentiment = label_encoder.inverse_transform([np.argmax(prediction)])[0]\n",
        "\n",
        "    return sentiment\n",
        "\n",
        "# Example usage\n",
        "sentence = \"Professor is nice\"  # Replace with your sentence\n",
        "predicted_sentiment = predict_sentiment(sentence)\n",
        "print(f\"The predicted sentiment is: {predicted_sentiment}\")\n"
      ]
    },
    {
      "cell_type": "code",
      "execution_count": null,
      "metadata": {
        "id": "GNjyyXwtH7ZE",
        "outputId": "21e20d9c-e772-44c0-f606-bf0c22d02da6"
      },
      "outputs": [
        {
          "name": "stdout",
          "output_type": "stream",
          "text": [
            "4/4 [==============================] - 0s 17ms/step\n",
            "{'1': 'surprise', '2': 'surprise', '3': 'love', '4': 'surprise', '5': 'surprise', '6': 'fear', '7': 'fear', '8': 'surprise', '9': 'fear', '10': 'surprise', '11': 'love', '12': 'surprise', '13': 'love', '14': 'fear', '15': 'surprise', '16': 'love', '17': 'surprise', '18': 'love', '19': 'surprise', '20': 'love', '21': 'love', '22': 'surprise', '23': 'surprise', '24': 'fear', '25': 'surprise', '26': 'love', '27': 'love', '28': 'surprise', '29': 'love', '30': 'fear', '31': 'surprise', '32': 'surprise', '33': 'love', '34': 'love', '35': 'surprise', '36': 'surprise', '37': 'surprise', '38': 'love', '39': 'surprise', '40': 'surprise', '41': 'surprise', '42': 'love', '43': 'love', '44': 'surprise', '45': 'surprise', '46': 'surprise', '47': 'love', '48': 'surprise', '49': 'love', '50': 'surprise', '51': 'surprise', '52': 'surprise', '53': 'surprise', '54': 'surprise', '55': 'love', '56': 'surprise', '57': 'love', '58': 'love', '59': 'love', '60': 'surprise', '61': 'surprise', '62': 'surprise', '63': 'surprise', '64': 'surprise', '65': 'love', '66': 'love', '67': 'surprise', '68': 'surprise', '69': 'surprise', '70': 'surprise', '71': 'love', '72': 'surprise', '73': 'fear', '74': 'surprise', '75': 'love', '76': 'surprise', '77': 'surprise', '78': 'surprise', '79': 'surprise', '80': 'love', '81': 'surprise', '82': 'surprise', '83': 'surprise', '84': 'love', '85': 'surprise', '86': 'love', '87': 'surprise', '88': 'love', '89': 'surprise', '90': 'surprise', '91': 'surprise', '92': 'surprise', '93': 'fear', '94': 'surprise', '95': 'love', '96': 'love', '97': 'surprise', '98': 'surprise', '99': 'love', '100': 'love'}\n",
            "Predictions saved to predictions.json\n"
          ]
        }
      ],
      "source": [
        "import json\n",
        "def read_json(file_path):\n",
        "    with open(file_path, 'r') as file:\n",
        "        return json.load(file)\n",
        "\n",
        "# Function to write JSON file\n",
        "def write_json(data, file_path):\n",
        "    with open(file_path, 'w') as file:\n",
        "        json.dump(data, file)\n",
        "\n",
        "\n",
        "def remove_stop_words_from_list(texts):\n",
        "    # Define a list of words to whitelist\n",
        "    whitelist = []\n",
        "    processed_texts = []\n",
        "    for text in texts:\n",
        "        processed_text = ' '.join([word for word in text.split() if word.lower() not in stop_words or word.lower() in whitelist])\n",
        "        processed_texts.append(processed_text)\n",
        "    return processed_texts\n",
        "\n",
        "\n",
        "# Read test data\n",
        "test_data_dict = read_json('/Users/ashwantmanikoth/Desktop/UNB/ML_workFlow/test_dataset_all_models.json')  # Make sure this path is correct\n",
        "\n",
        "# Extract messages from the test data\n",
        "test_messages = list(test_data_dict.values())\n",
        "test_messages = remove_stop_words_from_list(test_messages)\n",
        "# Preprocess test data\n",
        "X_test_seq = tokenizer.texts_to_sequences(test_messages)\n",
        "X_test_pad = pad_sequences(X_test_seq, maxlen=150)  # Adjust maxlen if needed\n",
        "\n",
        "# Make predictions\n",
        "predictions = model.predict(X_test_pad)\n",
        "predicted_labels = label_encoder.inverse_transform([np.argmax(p) for p in predictions])\n",
        "\n",
        "# Prepare data for JSON output\n",
        "output_predictions = {id: str(label) for id, label in zip(test_data_dict.keys(), predicted_labels)}\n",
        "print(output_predictions)\n",
        "# Write predictions to JSON\n",
        "write_json(output_predictions, '/Users/ashwantmanikoth/Desktop/UNB/ML_workFlow/ratings.json')\n",
        "\n",
        "print(\"Predictions saved to predictions.json\")\n"
      ]
    },
    {
      "cell_type": "code",
      "execution_count": null,
      "metadata": {
        "id": "ms1pSjPRH7ZE"
      },
      "outputs": [],
      "source": []
    }
  ],
  "metadata": {
    "accelerator": "GPU",
    "colab": {
      "gpuType": "V100",
      "machine_shape": "hm",
      "provenance": [],
      "include_colab_link": true
    },
    "kernelspec": {
      "display_name": "Python 3 (ipykernel)",
      "language": "python",
      "name": "python3"
    },
    "language_info": {
      "codemirror_mode": {
        "name": "ipython",
        "version": 3
      },
      "file_extension": ".py",
      "mimetype": "text/x-python",
      "name": "python",
      "nbconvert_exporter": "python",
      "pygments_lexer": "ipython3",
      "version": "3.10.11"
    }
  },
  "nbformat": 4,
  "nbformat_minor": 0
}