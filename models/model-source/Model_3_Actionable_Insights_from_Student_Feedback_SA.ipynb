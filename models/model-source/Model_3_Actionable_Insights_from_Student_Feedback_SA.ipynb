{
  "cells": [
    {
      "cell_type": "markdown",
      "metadata": {
        "id": "view-in-github",
        "colab_type": "text"
      },
      "source": [
        "<a href=\"https://colab.research.google.com/github/nidjosep/student-feedback-analysis/blob/master/models/model-source/Model_3_Actionable_Insights_from_Student_Feedback_SA.ipynb\" target=\"_parent\"><img src=\"https://colab.research.google.com/assets/colab-badge.svg\" alt=\"Open In Colab\"/></a>"
      ]
    },
    {
      "cell_type": "markdown",
      "source": [
        "**Aspect Based Sentiment Analysis for Student Feedbacks**"
      ],
      "metadata": {
        "id": "nKrrMKJO-0bj"
      }
    },
    {
      "cell_type": "markdown",
      "source": [
        "# 1. Setting Up the Environment"
      ],
      "metadata": {
        "id": "wB10Lr3kzPkn"
      }
    },
    {
      "cell_type": "code",
      "execution_count": 70,
      "metadata": {
        "colab": {
          "base_uri": "https://localhost:8080/"
        },
        "id": "nCqlFGV51k7S",
        "outputId": "e7472ba6-85ad-476f-e93c-ab28d96b012a"
      },
      "outputs": [
        {
          "output_type": "stream",
          "name": "stdout",
          "text": [
            "Requirement already satisfied: transformers in /usr/local/lib/python3.10/dist-packages (4.35.2)\n",
            "Requirement already satisfied: sentencepiece in /usr/local/lib/python3.10/dist-packages (0.1.99)\n",
            "Requirement already satisfied: tensorflow in /usr/local/lib/python3.10/dist-packages (2.15.0)\n",
            "Requirement already satisfied: filelock in /usr/local/lib/python3.10/dist-packages (from transformers) (3.13.1)\n",
            "Requirement already satisfied: huggingface-hub<1.0,>=0.16.4 in /usr/local/lib/python3.10/dist-packages (from transformers) (0.19.4)\n",
            "Requirement already satisfied: numpy>=1.17 in /usr/local/lib/python3.10/dist-packages (from transformers) (1.23.5)\n",
            "Requirement already satisfied: packaging>=20.0 in /usr/local/lib/python3.10/dist-packages (from transformers) (23.2)\n",
            "Requirement already satisfied: pyyaml>=5.1 in /usr/local/lib/python3.10/dist-packages (from transformers) (6.0.1)\n",
            "Requirement already satisfied: regex!=2019.12.17 in /usr/local/lib/python3.10/dist-packages (from transformers) (2023.6.3)\n",
            "Requirement already satisfied: requests in /usr/local/lib/python3.10/dist-packages (from transformers) (2.31.0)\n",
            "Requirement already satisfied: tokenizers<0.19,>=0.14 in /usr/local/lib/python3.10/dist-packages (from transformers) (0.15.0)\n",
            "Requirement already satisfied: safetensors>=0.3.1 in /usr/local/lib/python3.10/dist-packages (from transformers) (0.4.0)\n",
            "Requirement already satisfied: tqdm>=4.27 in /usr/local/lib/python3.10/dist-packages (from transformers) (4.66.1)\n",
            "Requirement already satisfied: absl-py>=1.0.0 in /usr/local/lib/python3.10/dist-packages (from tensorflow) (1.4.0)\n",
            "Requirement already satisfied: astunparse>=1.6.0 in /usr/local/lib/python3.10/dist-packages (from tensorflow) (1.6.3)\n",
            "Requirement already satisfied: flatbuffers>=23.5.26 in /usr/local/lib/python3.10/dist-packages (from tensorflow) (23.5.26)\n",
            "Requirement already satisfied: gast!=0.5.0,!=0.5.1,!=0.5.2,>=0.2.1 in /usr/local/lib/python3.10/dist-packages (from tensorflow) (0.5.4)\n",
            "Requirement already satisfied: google-pasta>=0.1.1 in /usr/local/lib/python3.10/dist-packages (from tensorflow) (0.2.0)\n",
            "Requirement already satisfied: h5py>=2.9.0 in /usr/local/lib/python3.10/dist-packages (from tensorflow) (3.9.0)\n",
            "Requirement already satisfied: libclang>=13.0.0 in /usr/local/lib/python3.10/dist-packages (from tensorflow) (16.0.6)\n",
            "Requirement already satisfied: ml-dtypes~=0.2.0 in /usr/local/lib/python3.10/dist-packages (from tensorflow) (0.2.0)\n",
            "Requirement already satisfied: opt-einsum>=2.3.2 in /usr/local/lib/python3.10/dist-packages (from tensorflow) (3.3.0)\n",
            "Requirement already satisfied: protobuf!=4.21.0,!=4.21.1,!=4.21.2,!=4.21.3,!=4.21.4,!=4.21.5,<5.0.0dev,>=3.20.3 in /usr/local/lib/python3.10/dist-packages (from tensorflow) (3.20.3)\n",
            "Requirement already satisfied: setuptools in /usr/local/lib/python3.10/dist-packages (from tensorflow) (67.7.2)\n",
            "Requirement already satisfied: six>=1.12.0 in /usr/local/lib/python3.10/dist-packages (from tensorflow) (1.16.0)\n",
            "Requirement already satisfied: termcolor>=1.1.0 in /usr/local/lib/python3.10/dist-packages (from tensorflow) (2.3.0)\n",
            "Requirement already satisfied: typing-extensions>=3.6.6 in /usr/local/lib/python3.10/dist-packages (from tensorflow) (4.5.0)\n",
            "Requirement already satisfied: wrapt<1.15,>=1.11.0 in /usr/local/lib/python3.10/dist-packages (from tensorflow) (1.14.1)\n",
            "Requirement already satisfied: tensorflow-io-gcs-filesystem>=0.23.1 in /usr/local/lib/python3.10/dist-packages (from tensorflow) (0.34.0)\n",
            "Requirement already satisfied: grpcio<2.0,>=1.24.3 in /usr/local/lib/python3.10/dist-packages (from tensorflow) (1.59.2)\n",
            "Requirement already satisfied: tensorboard<2.16,>=2.15 in /usr/local/lib/python3.10/dist-packages (from tensorflow) (2.15.1)\n",
            "Requirement already satisfied: tensorflow-estimator<2.16,>=2.15.0 in /usr/local/lib/python3.10/dist-packages (from tensorflow) (2.15.0)\n",
            "Requirement already satisfied: keras<2.16,>=2.15.0 in /usr/local/lib/python3.10/dist-packages (from tensorflow) (2.15.0)\n",
            "Requirement already satisfied: wheel<1.0,>=0.23.0 in /usr/local/lib/python3.10/dist-packages (from astunparse>=1.6.0->tensorflow) (0.41.3)\n",
            "Requirement already satisfied: fsspec>=2023.5.0 in /usr/local/lib/python3.10/dist-packages (from huggingface-hub<1.0,>=0.16.4->transformers) (2023.6.0)\n",
            "Requirement already satisfied: google-auth<3,>=1.6.3 in /usr/local/lib/python3.10/dist-packages (from tensorboard<2.16,>=2.15->tensorflow) (2.17.3)\n",
            "Requirement already satisfied: google-auth-oauthlib<2,>=0.5 in /usr/local/lib/python3.10/dist-packages (from tensorboard<2.16,>=2.15->tensorflow) (1.0.0)\n",
            "Requirement already satisfied: markdown>=2.6.8 in /usr/local/lib/python3.10/dist-packages (from tensorboard<2.16,>=2.15->tensorflow) (3.5.1)\n",
            "Requirement already satisfied: tensorboard-data-server<0.8.0,>=0.7.0 in /usr/local/lib/python3.10/dist-packages (from tensorboard<2.16,>=2.15->tensorflow) (0.7.2)\n",
            "Requirement already satisfied: werkzeug>=1.0.1 in /usr/local/lib/python3.10/dist-packages (from tensorboard<2.16,>=2.15->tensorflow) (3.0.1)\n",
            "Requirement already satisfied: charset-normalizer<4,>=2 in /usr/local/lib/python3.10/dist-packages (from requests->transformers) (3.3.2)\n",
            "Requirement already satisfied: idna<4,>=2.5 in /usr/local/lib/python3.10/dist-packages (from requests->transformers) (3.4)\n",
            "Requirement already satisfied: urllib3<3,>=1.21.1 in /usr/local/lib/python3.10/dist-packages (from requests->transformers) (2.0.7)\n",
            "Requirement already satisfied: certifi>=2017.4.17 in /usr/local/lib/python3.10/dist-packages (from requests->transformers) (2023.7.22)\n",
            "Requirement already satisfied: cachetools<6.0,>=2.0.0 in /usr/local/lib/python3.10/dist-packages (from google-auth<3,>=1.6.3->tensorboard<2.16,>=2.15->tensorflow) (5.3.2)\n",
            "Requirement already satisfied: pyasn1-modules>=0.2.1 in /usr/local/lib/python3.10/dist-packages (from google-auth<3,>=1.6.3->tensorboard<2.16,>=2.15->tensorflow) (0.3.0)\n",
            "Requirement already satisfied: rsa<5,>=3.1.4 in /usr/local/lib/python3.10/dist-packages (from google-auth<3,>=1.6.3->tensorboard<2.16,>=2.15->tensorflow) (4.9)\n",
            "Requirement already satisfied: requests-oauthlib>=0.7.0 in /usr/local/lib/python3.10/dist-packages (from google-auth-oauthlib<2,>=0.5->tensorboard<2.16,>=2.15->tensorflow) (1.3.1)\n",
            "Requirement already satisfied: MarkupSafe>=2.1.1 in /usr/local/lib/python3.10/dist-packages (from werkzeug>=1.0.1->tensorboard<2.16,>=2.15->tensorflow) (2.1.3)\n",
            "Requirement already satisfied: pyasn1<0.6.0,>=0.4.6 in /usr/local/lib/python3.10/dist-packages (from pyasn1-modules>=0.2.1->google-auth<3,>=1.6.3->tensorboard<2.16,>=2.15->tensorflow) (0.5.0)\n",
            "Requirement already satisfied: oauthlib>=3.0.0 in /usr/local/lib/python3.10/dist-packages (from requests-oauthlib>=0.7.0->google-auth-oauthlib<2,>=0.5->tensorboard<2.16,>=2.15->tensorflow) (3.2.2)\n"
          ]
        }
      ],
      "source": [
        "!pip install --upgrade transformers sentencepiece tensorflow"
      ]
    },
    {
      "cell_type": "code",
      "source": [
        "# download resources\n",
        "import nltk\n",
        "from nltk.corpus import stopwords\n",
        "\n",
        "nltk.download('stopwords')\n",
        "nltk.download('punkt')\n",
        "nltk.download('averaged_perceptron_tagger')"
      ],
      "metadata": {
        "colab": {
          "base_uri": "https://localhost:8080/"
        },
        "id": "Cryscn4acFus",
        "outputId": "5ec8abe3-ef21-455f-dd7c-0dcc4fa975a6"
      },
      "execution_count": 71,
      "outputs": [
        {
          "output_type": "stream",
          "name": "stderr",
          "text": [
            "[nltk_data] Downloading package stopwords to /root/nltk_data...\n",
            "[nltk_data]   Package stopwords is already up-to-date!\n",
            "[nltk_data] Downloading package punkt to /root/nltk_data...\n",
            "[nltk_data]   Package punkt is already up-to-date!\n",
            "[nltk_data] Downloading package averaged_perceptron_tagger to\n",
            "[nltk_data]     /root/nltk_data...\n",
            "[nltk_data]   Package averaged_perceptron_tagger is already up-to-\n",
            "[nltk_data]       date!\n"
          ]
        },
        {
          "output_type": "execute_result",
          "data": {
            "text/plain": [
              "True"
            ]
          },
          "metadata": {},
          "execution_count": 71
        }
      ]
    },
    {
      "cell_type": "markdown",
      "source": [
        "# Aspect Identification in Test Data"
      ],
      "metadata": {
        "id": "nPj9x-OHzaYU"
      }
    },
    {
      "cell_type": "code",
      "execution_count": 72,
      "metadata": {
        "colab": {
          "base_uri": "https://localhost:8080/"
        },
        "id": "WTWzr6K1V_OE",
        "outputId": "6d78560f-dc4a-45be-a0a3-4984c414dabf"
      },
      "outputs": [
        {
          "output_type": "stream",
          "name": "stdout",
          "text": [
            "Mounted at /content/drive\n",
            "Top 3 aspects identified are : ['LAB', 'PROFESSOR']\n",
            "\n"
          ]
        }
      ],
      "source": [
        "import torch.nn.functional as F\n",
        "from collections import Counter\n",
        "import pandas as pd\n",
        "from google.colab import drive\n",
        "\n",
        "def extract_aspects_from_sentence(sentence):\n",
        "    txt = sentence.lower()\n",
        "    sentList = nltk.sent_tokenize(txt)\n",
        "\n",
        "    aspects = set()\n",
        "    noun_pairs = set()\n",
        "    redundant_nouns = set()\n",
        "\n",
        "    for line in sentList:\n",
        "        txt_list = nltk.word_tokenize(line)\n",
        "        taggedList = nltk.pos_tag(txt_list)\n",
        "\n",
        "        for i in range(len(taggedList) - 1):\n",
        "            if taggedList[i][1] == \"NN\" and taggedList[i + 1][1] == \"NN\":\n",
        "                aspect = taggedList[i][0] + ' ' + taggedList[i + 1][0]\n",
        "                noun_pairs.add(aspect)\n",
        "                redundant_nouns.add(taggedList[i][0])\n",
        "                redundant_nouns.add(taggedList[i + 1][0])\n",
        "\n",
        "        # Add individual nouns if they are not part of noun pairs\n",
        "        for i in range(len(taggedList)):\n",
        "            if taggedList[i][1] == \"NN\" and taggedList[i][0] not in stop_words:\n",
        "                if taggedList[i][0] not in noun_pairs and taggedList[i][0] not in redundant_nouns and taggedList[i][0].isalpha() :\n",
        "                    aspects.add(taggedList[i][0])\n",
        "\n",
        "    # Add noun pairs to aspects\n",
        "    aspects.update(noun_pairs)\n",
        "\n",
        "    return list(aspects)\n",
        "\n",
        "# function to identify aspects from a list of feedbacks\n",
        "def identify_aspects(feedbacks):\n",
        "    aspect_counter = Counter()\n",
        "\n",
        "    # Extract aspects from each feedback and count them\n",
        "    for feedback in feedbacks:\n",
        "        extracted_aspects = extract_aspects_from_sentence(feedback)\n",
        "        aspect_counter.update(extracted_aspects)\n",
        "\n",
        "    # Find the top 2 aspects\n",
        "    top_aspects = aspect_counter.most_common(2)\n",
        "\n",
        "    # Convert top aspects to uppercase\n",
        "    return [aspect.upper() for aspect, count in top_aspects]\n",
        "\n",
        "# Mount your Google Drive\n",
        "drive.mount('/content/drive', force_remount=True)\n",
        "\n",
        "# Load the dataset\n",
        "df = pd.read_csv('/content/drive/MyDrive/MCSC/TME_6015/Project/test_data_set_all_model.csv')\n",
        "\n",
        "feedbacks = df['Feedback'].to_list()\n",
        "\n",
        "top_aspects = identify_aspects(feedbacks);\n",
        "print(f\"Top 3 aspects identified are : {top_aspects}\\n\")"
      ]
    },
    {
      "cell_type": "markdown",
      "source": [
        "# Loading the Aspect-Based Sentiment Analysis Model"
      ],
      "metadata": {
        "id": "9ttIpZgkzhvS"
      }
    },
    {
      "cell_type": "code",
      "source": [
        "# Load Aspect-Based Sentiment Analysis model\n",
        "absa_tokenizer = AutoTokenizer.from_pretrained(\"yangheng/deberta-v3-base-absa-v1.1\")\n",
        "absa_model = AutoModelForSequenceClassification.from_pretrained(\"yangheng/deberta-v3-base-absa-v1.1\")\n",
        "\n",
        "absa_model"
      ],
      "metadata": {
        "colab": {
          "base_uri": "https://localhost:8080/"
        },
        "id": "s0IIyxeAaJmK",
        "outputId": "038176f2-2fbb-472b-a7c1-6460a2702af6"
      },
      "execution_count": 73,
      "outputs": [
        {
          "output_type": "stream",
          "name": "stderr",
          "text": [
            "/usr/local/lib/python3.10/dist-packages/transformers/convert_slow_tokenizer.py:473: UserWarning: The sentencepiece tokenizer that you are converting to a fast tokenizer uses the byte fallback option which is not implemented in the fast tokenizers. In practice this means that the fast version of the tokenizer can produce unknown tokens whereas the sentencepiece version would have converted these unknown tokens into a sequence of byte tokens matching the original piece of text.\n",
            "  warnings.warn(\n"
          ]
        },
        {
          "output_type": "execute_result",
          "data": {
            "text/plain": [
              "DebertaV2ForSequenceClassification(\n",
              "  (deberta): DebertaV2Model(\n",
              "    (embeddings): DebertaV2Embeddings(\n",
              "      (word_embeddings): Embedding(128100, 768, padding_idx=0)\n",
              "      (LayerNorm): LayerNorm((768,), eps=1e-07, elementwise_affine=True)\n",
              "      (dropout): StableDropout()\n",
              "    )\n",
              "    (encoder): DebertaV2Encoder(\n",
              "      (layer): ModuleList(\n",
              "        (0-11): 12 x DebertaV2Layer(\n",
              "          (attention): DebertaV2Attention(\n",
              "            (self): DisentangledSelfAttention(\n",
              "              (query_proj): Linear(in_features=768, out_features=768, bias=True)\n",
              "              (key_proj): Linear(in_features=768, out_features=768, bias=True)\n",
              "              (value_proj): Linear(in_features=768, out_features=768, bias=True)\n",
              "              (pos_dropout): StableDropout()\n",
              "              (dropout): StableDropout()\n",
              "            )\n",
              "            (output): DebertaV2SelfOutput(\n",
              "              (dense): Linear(in_features=768, out_features=768, bias=True)\n",
              "              (LayerNorm): LayerNorm((768,), eps=1e-07, elementwise_affine=True)\n",
              "              (dropout): StableDropout()\n",
              "            )\n",
              "          )\n",
              "          (intermediate): DebertaV2Intermediate(\n",
              "            (dense): Linear(in_features=768, out_features=3072, bias=True)\n",
              "            (intermediate_act_fn): GELUActivation()\n",
              "          )\n",
              "          (output): DebertaV2Output(\n",
              "            (dense): Linear(in_features=3072, out_features=768, bias=True)\n",
              "            (LayerNorm): LayerNorm((768,), eps=1e-07, elementwise_affine=True)\n",
              "            (dropout): StableDropout()\n",
              "          )\n",
              "        )\n",
              "      )\n",
              "      (rel_embeddings): Embedding(512, 768)\n",
              "      (LayerNorm): LayerNorm((768,), eps=1e-07, elementwise_affine=True)\n",
              "    )\n",
              "  )\n",
              "  (pooler): ContextPooler(\n",
              "    (dense): Linear(in_features=768, out_features=768, bias=True)\n",
              "    (dropout): StableDropout()\n",
              "  )\n",
              "  (classifier): Linear(in_features=768, out_features=3, bias=True)\n",
              "  (dropout): StableDropout()\n",
              ")"
            ]
          },
          "metadata": {},
          "execution_count": 73
        }
      ]
    },
    {
      "cell_type": "markdown",
      "source": [
        "# Evaluation of ABSA Model on Test Dataset"
      ],
      "metadata": {
        "id": "Z5yClwWE1KsG"
      }
    },
    {
      "cell_type": "code",
      "source": [
        "from sklearn.metrics import accuracy_score, precision_recall_fscore_support, confusion_matrix\n",
        "import matplotlib.pyplot as plt\n",
        "import seaborn as sns\n",
        "import json\n",
        "\n",
        "def predict_sentiment(text, aspects):\n",
        "\n",
        "    aspect_sentiments = {}\n",
        "\n",
        "    for aspect in aspects:\n",
        "        # Load Aspect-Based Sentiment Analysis model\n",
        "        inputs = absa_tokenizer(f\"[CLS] {text} [SEP] {aspect} [SEP]\", return_tensors=\"pt\")\n",
        "        outputs = absa_model(**inputs)\n",
        "        probs = F.softmax(outputs.logits, dim=1)\n",
        "        probs = probs.detach().numpy()[0]\n",
        "\n",
        "        # Find the sentiment with the highest score\n",
        "        max_index = probs.argmax()\n",
        "        sentiment = [\"Negative\", \"Neutral\", \"Positive\"][max_index]\n",
        "        score = probs[max_index]\n",
        "\n",
        "        # Store the result\n",
        "        aspect_sentiments[aspect] = (sentiment, score)\n",
        "\n",
        "    return aspect_sentiments\n",
        "\n",
        "validation_data = []\n",
        "\n",
        "# Mount your Google Drive\n",
        "drive.mount('/content/drive', force_remount=True)\n",
        "\n",
        "# Open and load the JSON file\n",
        "with open('/content/drive/MyDrive/MCSC/TME_6015/Project/aspects_test_data_set_model_III.json', 'r') as file:\n",
        "    validation_data = json.load(file)\n",
        "\n",
        "def evaluate_model(validation_data, predict_sentiment):\n",
        "    y_true = []\n",
        "    y_pred = []\n",
        "\n",
        "    for entry in validation_data:\n",
        "        text = entry[\"text\"]\n",
        "        aspect_list = [aspect_info[\"aspect\"] for aspect_info in entry[\"aspects\"]]\n",
        "\n",
        "        # Get predictions for all aspects\n",
        "        predicted_sentiments = predict_sentiment(text, aspect_list)\n",
        "\n",
        "        # Compare with true sentiments\n",
        "        for aspect_info in entry[\"aspects\"]:\n",
        "            aspect = aspect_info[\"aspect\"]\n",
        "            true_sentiment = aspect_info[\"sentiment\"]\n",
        "            predicted_sentiment = predicted_sentiments[aspect][0]\n",
        "            y_true.append(true_sentiment)\n",
        "            y_pred.append(predicted_sentiment)\n",
        "\n",
        "    # Calculate metrics\n",
        "    accuracy = accuracy_score(y_true, y_pred)\n",
        "    precision, recall, f1, _ = precision_recall_fscore_support(y_true, y_pred, average='weighted', labels=[\"Positive\", \"Negative\", \"Neutral\"])\n",
        "    conf_matrix = confusion_matrix(y_true, y_pred, labels=[\"Positive\", \"Negative\", \"Neutral\"])\n",
        "\n",
        "    return accuracy, precision, recall, f1, conf_matrix\n",
        "\n",
        "def confusion_matrix_plot(conf_matrix):\n",
        "    labels = [\"Positive\", \"Negative\", \"Neutral\"]\n",
        "    plt.figure(figsize=(8, 6))\n",
        "    sns.heatmap(conf_matrix, annot=True, fmt=\"d\", cmap=\"Blues\", xticklabels=labels, yticklabels=labels)\n",
        "\n",
        "    plt.ylabel('Actual Label')\n",
        "    plt.xlabel('Predicted Label')\n",
        "    plt.title('Confusion Matrix')\n",
        "    plt.show()\n",
        "\n",
        "accuracy, precision, recall, f1, conf_matrix = evaluate_model(validation_data, predict_sentiment)\n",
        "\n",
        "confusion_matrix_plot(conf_matrix)\n",
        "print(f\"\\nAccuracy: {accuracy:.4f}\")\n",
        "print(f\"Precision: {precision:.4f}\")\n",
        "print(f\"Recall: {recall:.4f}\")\n",
        "print(f\"F1 Score: {f1:.4f}\")"
      ],
      "metadata": {
        "colab": {
          "base_uri": "https://localhost:8080/",
          "height": 671
        },
        "id": "Nlb35j-DZEhg",
        "outputId": "3b835fdf-c999-40fa-a4f0-6cca63b893dc"
      },
      "execution_count": 86,
      "outputs": [
        {
          "output_type": "stream",
          "name": "stdout",
          "text": [
            "Mounted at /content/drive\n"
          ]
        },
        {
          "output_type": "display_data",
          "data": {
            "text/plain": [
              "<Figure size 800x600 with 2 Axes>"
            ],
            "image/png": "[encoded data removed]"
          },
          "metadata": {}
        },
        {
          "output_type": "stream",
          "name": "stdout",
          "text": [
            "\n",
            "Accuracy: 1.0000\n",
            "Precision: 1.0000\n",
            "Recall: 1.0000\n",
            "F1 Score: 1.0000\n"
          ]
        }
      ]
    },
    {
      "cell_type": "markdown",
      "source": [
        "# Running Predictions on Test Data"
      ],
      "metadata": {
        "id": "rjNAsCIt8jxb"
      }
    },
    {
      "cell_type": "code",
      "source": [
        "# Applying the model on a subset of test data set and see the results\n",
        "from transformers import AutoTokenizer, AutoModelForSequenceClassification\n",
        "import torch.nn.functional as F\n",
        "from transformers import pipeline\n",
        "import json\n",
        "\n",
        "json_data = {\n",
        "    \"aspects\": top_aspects,\n",
        "    \"participants\": {}\n",
        "}\n",
        "\n",
        "def predict_sentiment(text, aspects):\n",
        "\n",
        "    aspect_sentiments = {}\n",
        "\n",
        "    for aspect in aspects:\n",
        "        # Load Aspect-Based Sentiment Analysis model\n",
        "        inputs = absa_tokenizer(f\"[CLS] {text} [SEP] {aspect} [SEP]\", return_tensors=\"pt\")\n",
        "        outputs = absa_model(**inputs)\n",
        "        probs = F.softmax(outputs.logits, dim=1)\n",
        "        probs = probs.detach().numpy()[0]\n",
        "\n",
        "        # Find the sentiment with the highest score\n",
        "        max_index = probs.argmax()\n",
        "        sentiment = [\"Negative\", \"Neutral\", \"Positive\"][max_index]\n",
        "        score = probs[max_index]\n",
        "\n",
        "        # Store the result\n",
        "        aspect_sentiments[aspect] = (sentiment, score)\n",
        "\n",
        "    return aspect_sentiments\n",
        "\n",
        "# Process and print the first 5 feedbacks with their aspect-based sentiment results\n",
        "for i, feedback in enumerate(feedbacks[:5]):  # Limiting to first 5 feedbacks\n",
        "    predicted_sentiments = predict_sentiment(feedback, top_aspects)\n",
        "\n",
        "    # Formatting the output\n",
        "    formatted_sentiments = {aspect: sentiment_score[0] for aspect, sentiment_score in predicted_sentiments.items()}\n",
        "\n",
        "    print(f\"Feedback {i+1}: {feedback}\")\n",
        "    print(\"Aspect Sentiments:\", formatted_sentiments)\n",
        "    print(\"\\n\" + \"-\"*50 + \"\\n\")"
      ],
      "metadata": {
        "colab": {
          "base_uri": "https://localhost:8080/"
        },
        "id": "RNAUbVjvzsPE",
        "outputId": "90379d5c-9fb0-4c16-efec-8743effa35df"
      },
      "execution_count": 75,
      "outputs": [
        {
          "output_type": "stream",
          "name": "stdout",
          "text": [
            "Feedback 1: Excited to apply theoretical knowledge in practical experiments.\n",
            "Aspect Sentiments: {'LAB': 'Neutral', 'PROFESSOR': 'Positive'}\n",
            "\n",
            "--------------------------------------------------\n",
            "\n",
            "Feedback 2: The lab schedule is inconvenient and inflexible.\n",
            "Aspect Sentiments: {'LAB': 'Negative', 'PROFESSOR': 'Negative'}\n",
            "\n",
            "--------------------------------------------------\n",
            "\n",
            "Feedback 3: Excited about the practical applications taught in class.\n",
            "Aspect Sentiments: {'LAB': 'Neutral', 'PROFESSOR': 'Positive'}\n",
            "\n",
            "--------------------------------------------------\n",
            "\n",
            "Feedback 4: Struggling with the disorganized course structure.\n",
            "Aspect Sentiments: {'LAB': 'Neutral', 'PROFESSOR': 'Negative'}\n",
            "\n",
            "--------------------------------------------------\n",
            "\n",
            "Feedback 5: Valuing the constructive feedback on my work.\n",
            "Aspect Sentiments: {'LAB': 'Positive', 'PROFESSOR': 'Positive'}\n",
            "\n",
            "--------------------------------------------------\n",
            "\n"
          ]
        }
      ]
    },
    {
      "cell_type": "code",
      "source": [
        "# Applying the model on test data set and generate the out file - aspects.json\n",
        "for feedback in feedbacks:\n",
        "    predicted_sentiments = predict_sentiment(feedback, top_aspects)\n",
        "    participant_sentiments = {aspect: sentiment_score[0] for aspect, sentiment_score in predicted_sentiments.items()}\n",
        "    json_data[\"participants\"][str(i + 1)] = participant_sentiments\n",
        "\n",
        "# Write the out data to a JSON file\n",
        "with open('/content/drive/MyDrive/MCSC/TME_6015/Project/aspects.json', 'w') as file:\n",
        "    json.dump(json_data, file, indent=4)"
      ],
      "metadata": {
        "id": "qwtoY4Xfsd5S"
      },
      "execution_count": 76,
      "outputs": []
    }
  ],
  "metadata": {
    "accelerator": "GPU",
    "colab": {
      "provenance": [],
      "toc_visible": true,
      "gpuType": "V100",
      "mount_file_id": "1Jw4Oh1zLAfR1nYQe5eOetekFlZQvyU8B",
      "authorship_tag": "ABX9TyNx0nmdnGtWpjALo0QJ6rzO",
      "include_colab_link": true
    },
    "kernelspec": {
      "display_name": "Python 3",
      "name": "python3"
    },
    "language_info": {
      "name": "python"
    }
  },
  "nbformat": 4,
  "nbformat_minor": 0
}